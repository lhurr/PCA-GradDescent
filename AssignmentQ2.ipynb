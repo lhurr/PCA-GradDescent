{
 "cells": [
  {
   "cell_type": "code",
   "execution_count": 1,
   "metadata": {},
   "outputs": [],
   "source": [
    "from sklearn.decomposition import PCA\n",
    "import pandas as pd\n",
    "import numpy as np\n",
    "import pandas as pd\n",
    "import seaborn as sns\n",
    "import matplotlib.pyplot as plt"
   ]
  },
  {
   "cell_type": "code",
   "execution_count": 2,
   "metadata": {},
   "outputs": [
    {
     "data": {
      "text/html": [
       "<div>\n",
       "<style scoped>\n",
       "    .dataframe tbody tr th:only-of-type {\n",
       "        vertical-align: middle;\n",
       "    }\n",
       "\n",
       "    .dataframe tbody tr th {\n",
       "        vertical-align: top;\n",
       "    }\n",
       "\n",
       "    .dataframe thead th {\n",
       "        text-align: right;\n",
       "    }\n",
       "</style>\n",
       "<table border=\"1\" class=\"dataframe\">\n",
       "  <thead>\n",
       "    <tr style=\"text-align: right;\">\n",
       "      <th></th>\n",
       "      <th>alcohol (%v/v at 20°C)</th>\n",
       "      <th>malic_acid (g/L)</th>\n",
       "      <th>magnesium (mg/L)</th>\n",
       "      <th>flavanoids (mg/L)</th>\n",
       "      <th>nonflavanoid_phenols (mg/L)</th>\n",
       "      <th>color_intensity (units)</th>\n",
       "      <th>proline (mg/L)</th>\n",
       "      <th>cultivator</th>\n",
       "    </tr>\n",
       "  </thead>\n",
       "  <tbody>\n",
       "    <tr>\n",
       "      <th>0</th>\n",
       "      <td>14.23</td>\n",
       "      <td>1.71</td>\n",
       "      <td>127</td>\n",
       "      <td>3.06</td>\n",
       "      <td>0.28</td>\n",
       "      <td>5.64</td>\n",
       "      <td>1065</td>\n",
       "      <td>0</td>\n",
       "    </tr>\n",
       "    <tr>\n",
       "      <th>1</th>\n",
       "      <td>13.20</td>\n",
       "      <td>1.78</td>\n",
       "      <td>100</td>\n",
       "      <td>2.76</td>\n",
       "      <td>0.26</td>\n",
       "      <td>4.38</td>\n",
       "      <td>1050</td>\n",
       "      <td>0</td>\n",
       "    </tr>\n",
       "    <tr>\n",
       "      <th>2</th>\n",
       "      <td>13.16</td>\n",
       "      <td>2.36</td>\n",
       "      <td>101</td>\n",
       "      <td>3.24</td>\n",
       "      <td>0.30</td>\n",
       "      <td>5.68</td>\n",
       "      <td>1185</td>\n",
       "      <td>0</td>\n",
       "    </tr>\n",
       "    <tr>\n",
       "      <th>3</th>\n",
       "      <td>14.37</td>\n",
       "      <td>1.95</td>\n",
       "      <td>113</td>\n",
       "      <td>3.49</td>\n",
       "      <td>0.24</td>\n",
       "      <td>7.80</td>\n",
       "      <td>1480</td>\n",
       "      <td>0</td>\n",
       "    </tr>\n",
       "    <tr>\n",
       "      <th>4</th>\n",
       "      <td>13.24</td>\n",
       "      <td>2.59</td>\n",
       "      <td>118</td>\n",
       "      <td>2.69</td>\n",
       "      <td>0.39</td>\n",
       "      <td>4.32</td>\n",
       "      <td>735</td>\n",
       "      <td>0</td>\n",
       "    </tr>\n",
       "  </tbody>\n",
       "</table>\n",
       "</div>"
      ],
      "text/plain": [
       "   alcohol (%v/v at 20°C)  malic_acid (g/L)  magnesium (mg/L)  \\\n",
       "0                   14.23              1.71               127   \n",
       "1                   13.20              1.78               100   \n",
       "2                   13.16              2.36               101   \n",
       "3                   14.37              1.95               113   \n",
       "4                   13.24              2.59               118   \n",
       "\n",
       "   flavanoids (mg/L)  nonflavanoid_phenols (mg/L)  color_intensity (units)  \\\n",
       "0               3.06                         0.28                     5.64   \n",
       "1               2.76                         0.26                     4.38   \n",
       "2               3.24                         0.30                     5.68   \n",
       "3               3.49                         0.24                     7.80   \n",
       "4               2.69                         0.39                     4.32   \n",
       "\n",
       "   proline (mg/L)  cultivator  \n",
       "0            1065           0  \n",
       "1            1050           0  \n",
       "2            1185           0  \n",
       "3            1480           0  \n",
       "4             735           0  "
      ]
     },
     "execution_count": 2,
     "metadata": {},
     "output_type": "execute_result"
    }
   ],
   "source": [
    "data = pd.read_csv('datasets/wine.csv',encoding = 'unicode_escape')\n",
    "data.head()"
   ]
  },
  {
   "cell_type": "code",
   "execution_count": 3,
   "metadata": {},
   "outputs": [],
   "source": [
    "data_cult = data.copy()"
   ]
  },
  {
   "cell_type": "markdown",
   "metadata": {},
   "source": [
    "Wines grown in the same region in Italy but by three different cultivators were analysed. The\n",
    "analysis determined the quantities of 7 constituents found in each wine. Results of the chemical\n",
    "analysis can be found in the file wine.csv. The variable “cultivator” indicates which of the three\n",
    "cultivators each wine originated. The remaining variables are names of each constituent.\n"
   ]
  },
  {
   "cell_type": "code",
   "execution_count": 4,
   "metadata": {},
   "outputs": [],
   "source": [
    "data = data.drop(['cultivator'],axis=1)"
   ]
  },
  {
   "cell_type": "markdown",
   "metadata": {},
   "source": [
    "# A)"
   ]
  },
  {
   "cell_type": "markdown",
   "metadata": {},
   "source": [
    "Simple exploratory data analysis"
   ]
  },
  {
   "cell_type": "code",
   "execution_count": 5,
   "metadata": {},
   "outputs": [
    {
     "data": {
      "image/png": "[encoded data removed]",
      "text/plain": [
       "<Figure size 432x288 with 9 Axes>"
      ]
     },
     "metadata": {
      "needs_background": "light"
     },
     "output_type": "display_data"
    }
   ],
   "source": [
    "data.hist()\n",
    "plt.tight_layout()\n",
    "plt.show()"
   ]
  },
  {
   "cell_type": "markdown",
   "metadata": {},
   "source": [
    "PCA should be carried out on correlation matrix"
   ]
  },
  {
   "cell_type": "code",
   "execution_count": 6,
   "metadata": {},
   "outputs": [
    {
     "data": {
      "text/html": [
       "<div>\n",
       "<style scoped>\n",
       "    .dataframe tbody tr th:only-of-type {\n",
       "        vertical-align: middle;\n",
       "    }\n",
       "\n",
       "    .dataframe tbody tr th {\n",
       "        vertical-align: top;\n",
       "    }\n",
       "\n",
       "    .dataframe thead th {\n",
       "        text-align: right;\n",
       "    }\n",
       "</style>\n",
       "<table border=\"1\" class=\"dataframe\">\n",
       "  <thead>\n",
       "    <tr style=\"text-align: right;\">\n",
       "      <th></th>\n",
       "      <th>alcohol (%v/v at 20°C)</th>\n",
       "      <th>malic_acid (g/L)</th>\n",
       "      <th>magnesium (mg/L)</th>\n",
       "      <th>flavanoids (mg/L)</th>\n",
       "      <th>nonflavanoid_phenols (mg/L)</th>\n",
       "      <th>color_intensity (units)</th>\n",
       "      <th>proline (mg/L)</th>\n",
       "    </tr>\n",
       "  </thead>\n",
       "  <tbody>\n",
       "    <tr>\n",
       "      <th>count</th>\n",
       "      <td>131.000000</td>\n",
       "      <td>131.000000</td>\n",
       "      <td>131.000000</td>\n",
       "      <td>131.000000</td>\n",
       "      <td>131.000000</td>\n",
       "      <td>131.000000</td>\n",
       "      <td>131.000000</td>\n",
       "    </tr>\n",
       "    <tr>\n",
       "      <th>mean</th>\n",
       "      <td>12.987786</td>\n",
       "      <td>2.324733</td>\n",
       "      <td>97.679389</td>\n",
       "      <td>1.984580</td>\n",
       "      <td>0.369008</td>\n",
       "      <td>5.079771</td>\n",
       "      <td>749.885496</td>\n",
       "    </tr>\n",
       "    <tr>\n",
       "      <th>std</th>\n",
       "      <td>0.797958</td>\n",
       "      <td>1.043741</td>\n",
       "      <td>11.576679</td>\n",
       "      <td>1.001207</td>\n",
       "      <td>0.118204</td>\n",
       "      <td>2.201531</td>\n",
       "      <td>322.561852</td>\n",
       "    </tr>\n",
       "    <tr>\n",
       "      <th>min</th>\n",
       "      <td>11.410000</td>\n",
       "      <td>0.740000</td>\n",
       "      <td>70.000000</td>\n",
       "      <td>0.340000</td>\n",
       "      <td>0.170000</td>\n",
       "      <td>1.280000</td>\n",
       "      <td>278.000000</td>\n",
       "    </tr>\n",
       "    <tr>\n",
       "      <th>25%</th>\n",
       "      <td>12.315000</td>\n",
       "      <td>1.645000</td>\n",
       "      <td>88.000000</td>\n",
       "      <td>0.880000</td>\n",
       "      <td>0.280000</td>\n",
       "      <td>3.250000</td>\n",
       "      <td>505.000000</td>\n",
       "    </tr>\n",
       "    <tr>\n",
       "      <th>50%</th>\n",
       "      <td>13.050000</td>\n",
       "      <td>1.880000</td>\n",
       "      <td>97.000000</td>\n",
       "      <td>2.110000</td>\n",
       "      <td>0.370000</td>\n",
       "      <td>4.900000</td>\n",
       "      <td>672.000000</td>\n",
       "    </tr>\n",
       "    <tr>\n",
       "      <th>75%</th>\n",
       "      <td>13.685000</td>\n",
       "      <td>2.975000</td>\n",
       "      <td>105.500000</td>\n",
       "      <td>2.890000</td>\n",
       "      <td>0.435000</td>\n",
       "      <td>6.275000</td>\n",
       "      <td>1005.000000</td>\n",
       "    </tr>\n",
       "    <tr>\n",
       "      <th>max</th>\n",
       "      <td>14.390000</td>\n",
       "      <td>5.510000</td>\n",
       "      <td>127.000000</td>\n",
       "      <td>3.740000</td>\n",
       "      <td>0.630000</td>\n",
       "      <td>10.680000</td>\n",
       "      <td>1547.000000</td>\n",
       "    </tr>\n",
       "  </tbody>\n",
       "</table>\n",
       "</div>"
      ],
      "text/plain": [
       "       alcohol (%v/v at 20°C)  malic_acid (g/L)  magnesium (mg/L)  \\\n",
       "count              131.000000        131.000000        131.000000   \n",
       "mean                12.987786          2.324733         97.679389   \n",
       "std                  0.797958          1.043741         11.576679   \n",
       "min                 11.410000          0.740000         70.000000   \n",
       "25%                 12.315000          1.645000         88.000000   \n",
       "50%                 13.050000          1.880000         97.000000   \n",
       "75%                 13.685000          2.975000        105.500000   \n",
       "max                 14.390000          5.510000        127.000000   \n",
       "\n",
       "       flavanoids (mg/L)  nonflavanoid_phenols (mg/L)  \\\n",
       "count         131.000000                   131.000000   \n",
       "mean            1.984580                     0.369008   \n",
       "std             1.001207                     0.118204   \n",
       "min             0.340000                     0.170000   \n",
       "25%             0.880000                     0.280000   \n",
       "50%             2.110000                     0.370000   \n",
       "75%             2.890000                     0.435000   \n",
       "max             3.740000                     0.630000   \n",
       "\n",
       "       color_intensity (units)  proline (mg/L)  \n",
       "count               131.000000      131.000000  \n",
       "mean                  5.079771      749.885496  \n",
       "std                   2.201531      322.561852  \n",
       "min                   1.280000      278.000000  \n",
       "25%                   3.250000      505.000000  \n",
       "50%                   4.900000      672.000000  \n",
       "75%                   6.275000     1005.000000  \n",
       "max                  10.680000     1547.000000  "
      ]
     },
     "execution_count": 6,
     "metadata": {},
     "output_type": "execute_result"
    }
   ],
   "source": [
    "data.describe()"
   ]
  },
  {
   "cell_type": "code",
   "execution_count": 7,
   "metadata": {},
   "outputs": [
    {
     "data": {
      "text/html": [
       "<div>\n",
       "<style scoped>\n",
       "    .dataframe tbody tr th:only-of-type {\n",
       "        vertical-align: middle;\n",
       "    }\n",
       "\n",
       "    .dataframe tbody tr th {\n",
       "        vertical-align: top;\n",
       "    }\n",
       "\n",
       "    .dataframe thead th {\n",
       "        text-align: right;\n",
       "    }\n",
       "</style>\n",
       "<table border=\"1\" class=\"dataframe\">\n",
       "  <thead>\n",
       "    <tr style=\"text-align: right;\">\n",
       "      <th></th>\n",
       "      <th>alcohol (%v/v at 20°C)</th>\n",
       "      <th>malic_acid (g/L)</th>\n",
       "      <th>magnesium (mg/L)</th>\n",
       "      <th>flavanoids (mg/L)</th>\n",
       "      <th>nonflavanoid_phenols (mg/L)</th>\n",
       "      <th>color_intensity (units)</th>\n",
       "      <th>proline (mg/L)</th>\n",
       "    </tr>\n",
       "  </thead>\n",
       "  <tbody>\n",
       "    <tr>\n",
       "      <th>0</th>\n",
       "      <td>1.562716</td>\n",
       "      <td>-0.591231</td>\n",
       "      <td>2.542453</td>\n",
       "      <td>1.078247</td>\n",
       "      <td>-0.755894</td>\n",
       "      <td>0.255449</td>\n",
       "      <td>0.980662</td>\n",
       "    </tr>\n",
       "    <tr>\n",
       "      <th>1</th>\n",
       "      <td>0.266967</td>\n",
       "      <td>-0.523908</td>\n",
       "      <td>0.201225</td>\n",
       "      <td>0.777458</td>\n",
       "      <td>-0.925743</td>\n",
       "      <td>-0.319077</td>\n",
       "      <td>0.933981</td>\n",
       "    </tr>\n",
       "    <tr>\n",
       "      <th>2</th>\n",
       "      <td>0.216646</td>\n",
       "      <td>0.033919</td>\n",
       "      <td>0.287937</td>\n",
       "      <td>1.258720</td>\n",
       "      <td>-0.586044</td>\n",
       "      <td>0.273688</td>\n",
       "      <td>1.354112</td>\n",
       "    </tr>\n",
       "    <tr>\n",
       "      <th>3</th>\n",
       "      <td>1.738838</td>\n",
       "      <td>-0.360407</td>\n",
       "      <td>1.328483</td>\n",
       "      <td>1.509377</td>\n",
       "      <td>-1.095592</td>\n",
       "      <td>1.240351</td>\n",
       "      <td>2.272176</td>\n",
       "    </tr>\n",
       "    <tr>\n",
       "      <th>4</th>\n",
       "      <td>0.317287</td>\n",
       "      <td>0.255126</td>\n",
       "      <td>1.762044</td>\n",
       "      <td>0.707274</td>\n",
       "      <td>0.178277</td>\n",
       "      <td>-0.346435</td>\n",
       "      <td>-0.046325</td>\n",
       "    </tr>\n",
       "  </tbody>\n",
       "</table>\n",
       "</div>"
      ],
      "text/plain": [
       "   alcohol (%v/v at 20°C)  malic_acid (g/L)  magnesium (mg/L)  \\\n",
       "0                1.562716         -0.591231          2.542453   \n",
       "1                0.266967         -0.523908          0.201225   \n",
       "2                0.216646          0.033919          0.287937   \n",
       "3                1.738838         -0.360407          1.328483   \n",
       "4                0.317287          0.255126          1.762044   \n",
       "\n",
       "   flavanoids (mg/L)  nonflavanoid_phenols (mg/L)  color_intensity (units)  \\\n",
       "0           1.078247                    -0.755894                 0.255449   \n",
       "1           0.777458                    -0.925743                -0.319077   \n",
       "2           1.258720                    -0.586044                 0.273688   \n",
       "3           1.509377                    -1.095592                 1.240351   \n",
       "4           0.707274                     0.178277                -0.346435   \n",
       "\n",
       "   proline (mg/L)  \n",
       "0        0.980662  \n",
       "1        0.933981  \n",
       "2        1.354112  \n",
       "3        2.272176  \n",
       "4       -0.046325  "
      ]
     },
     "execution_count": 7,
     "metadata": {},
     "output_type": "execute_result"
    }
   ],
   "source": [
    "from sklearn.preprocessing import scale\n",
    "# scaling the data before PCA\n",
    "data_reduced = pd.DataFrame(scale(data), columns=data.columns)\n",
    "data_reduced.head()"
   ]
  },
  {
   "cell_type": "code",
   "execution_count": 8,
   "metadata": {},
   "outputs": [],
   "source": [
    "pca_ = PCA(n_components=7).fit(data_reduced)\n",
    "# Pick components = 7\n",
    "#Note that pca.transform() returns scores based on centred data\n",
    "pca_samples = pca_.transform(data_reduced)"
   ]
  },
  {
   "cell_type": "markdown",
   "metadata": {},
   "source": [
    "# B)"
   ]
  },
  {
   "cell_type": "code",
   "execution_count": 9,
   "metadata": {},
   "outputs": [],
   "source": [
    "# Computes the PCs and percentage variance explained\n",
    "# Pass original data and returns of PCA to this function.\n",
    "# This function returns a table summarising the eigenvalues, % variance explained, cumulative % variance explained and PCs\n",
    "\n",
    "def pca_results(data, pca):\n",
    "    \n",
    "    # Dimension indexing\n",
    "    dimensions = ['PC {}'.format(i) for i in range(1,len(pca.components_)+1)]\n",
    "    \n",
    "    # PCA components\n",
    "    components = pd.DataFrame(np.round(pca.components_, 4), columns = data.keys())\n",
    "    components.index = dimensions\n",
    "\n",
    "    #PCA eigenvalues\n",
    "    ev = pca.explained_variance_.reshape(len(pca.components_), 1)\n",
    "    eigenvalues = pd.DataFrame(np.round(ev, 4), columns = ['Eigenvalue']) \n",
    "    eigenvalues.index = dimensions\n",
    "    \n",
    "    # PCA explained variance\n",
    "    ratios = pca.explained_variance_ratio_.reshape(len(pca.components_), 1) \n",
    "    variance_ratios = pd.DataFrame(np.round(ratios, 4), columns = ['Explained Variance']) \n",
    "    variance_ratios.index = dimensions \n",
    "    \n",
    "    #PCA cumulative variance explained\n",
    "    cum_ratios = pca.explained_variance_ratio_.cumsum().reshape(len(pca.components_), 1)\n",
    "    cum_variance_ratios = pd.DataFrame(np.round(cum_ratios, 4), columns = ['Cumulative Explained Variance'])\n",
    "    cum_variance_ratios.index = dimensions\n",
    "\n",
    "    # Return a concatenated DataFrame\n",
    "    return pd.concat([eigenvalues, variance_ratios, cum_variance_ratios, components], axis = 1)"
   ]
  },
  {
   "cell_type": "code",
   "execution_count": 10,
   "metadata": {},
   "outputs": [
    {
     "data": {
      "text/html": [
       "<div>\n",
       "<style scoped>\n",
       "    .dataframe tbody tr th:only-of-type {\n",
       "        vertical-align: middle;\n",
       "    }\n",
       "\n",
       "    .dataframe tbody tr th {\n",
       "        vertical-align: top;\n",
       "    }\n",
       "\n",
       "    .dataframe thead th {\n",
       "        text-align: right;\n",
       "    }\n",
       "</style>\n",
       "<table border=\"1\" class=\"dataframe\">\n",
       "  <thead>\n",
       "    <tr style=\"text-align: right;\">\n",
       "      <th></th>\n",
       "      <th>Eigenvalue</th>\n",
       "      <th>Explained Variance</th>\n",
       "      <th>Cumulative Explained Variance</th>\n",
       "      <th>alcohol (%v/v at 20°C)</th>\n",
       "      <th>malic_acid (g/L)</th>\n",
       "      <th>magnesium (mg/L)</th>\n",
       "      <th>flavanoids (mg/L)</th>\n",
       "      <th>nonflavanoid_phenols (mg/L)</th>\n",
       "      <th>color_intensity (units)</th>\n",
       "      <th>proline (mg/L)</th>\n",
       "    </tr>\n",
       "  </thead>\n",
       "  <tbody>\n",
       "    <tr>\n",
       "      <th>PC 1</th>\n",
       "      <td>3.0084</td>\n",
       "      <td>0.4265</td>\n",
       "      <td>0.4265</td>\n",
       "      <td>0.4118</td>\n",
       "      <td>-0.2166</td>\n",
       "      <td>0.3923</td>\n",
       "      <td>0.4317</td>\n",
       "      <td>-0.3888</td>\n",
       "      <td>0.1845</td>\n",
       "      <td>0.5080</td>\n",
       "    </tr>\n",
       "    <tr>\n",
       "      <th>PC 2</th>\n",
       "      <td>2.1718</td>\n",
       "      <td>0.3079</td>\n",
       "      <td>0.7344</td>\n",
       "      <td>0.3584</td>\n",
       "      <td>0.5076</td>\n",
       "      <td>0.2185</td>\n",
       "      <td>-0.3708</td>\n",
       "      <td>0.3265</td>\n",
       "      <td>0.5544</td>\n",
       "      <td>0.1209</td>\n",
       "    </tr>\n",
       "    <tr>\n",
       "      <th>PC 3</th>\n",
       "      <td>0.5888</td>\n",
       "      <td>0.0835</td>\n",
       "      <td>0.8178</td>\n",
       "      <td>-0.3204</td>\n",
       "      <td>0.3503</td>\n",
       "      <td>0.7918</td>\n",
       "      <td>0.0457</td>\n",
       "      <td>-0.1262</td>\n",
       "      <td>-0.2683</td>\n",
       "      <td>-0.2403</td>\n",
       "    </tr>\n",
       "    <tr>\n",
       "      <th>PC 4</th>\n",
       "      <td>0.4619</td>\n",
       "      <td>0.0655</td>\n",
       "      <td>0.8833</td>\n",
       "      <td>0.1060</td>\n",
       "      <td>0.5560</td>\n",
       "      <td>-0.3540</td>\n",
       "      <td>-0.0159</td>\n",
       "      <td>-0.7333</td>\n",
       "      <td>0.0108</td>\n",
       "      <td>-0.1272</td>\n",
       "    </tr>\n",
       "    <tr>\n",
       "      <th>PC 5</th>\n",
       "      <td>0.3959</td>\n",
       "      <td>0.0561</td>\n",
       "      <td>0.9395</td>\n",
       "      <td>-0.2835</td>\n",
       "      <td>-0.4337</td>\n",
       "      <td>0.1451</td>\n",
       "      <td>-0.2860</td>\n",
       "      <td>-0.3672</td>\n",
       "      <td>0.6202</td>\n",
       "      <td>-0.3305</td>\n",
       "    </tr>\n",
       "    <tr>\n",
       "      <th>PC 6</th>\n",
       "      <td>0.2398</td>\n",
       "      <td>0.0340</td>\n",
       "      <td>0.9734</td>\n",
       "      <td>-0.7041</td>\n",
       "      <td>0.2488</td>\n",
       "      <td>-0.1422</td>\n",
       "      <td>0.2676</td>\n",
       "      <td>0.0680</td>\n",
       "      <td>0.3140</td>\n",
       "      <td>0.4973</td>\n",
       "    </tr>\n",
       "    <tr>\n",
       "      <th>PC 7</th>\n",
       "      <td>0.1873</td>\n",
       "      <td>0.0266</td>\n",
       "      <td>1.0000</td>\n",
       "      <td>0.1093</td>\n",
       "      <td>0.1165</td>\n",
       "      <td>-0.0701</td>\n",
       "      <td>0.7214</td>\n",
       "      <td>0.2215</td>\n",
       "      <td>0.3212</td>\n",
       "      <td>-0.5449</td>\n",
       "    </tr>\n",
       "  </tbody>\n",
       "</table>\n",
       "</div>"
      ],
      "text/plain": [
       "      Eigenvalue  Explained Variance  Cumulative Explained Variance  \\\n",
       "PC 1      3.0084              0.4265                         0.4265   \n",
       "PC 2      2.1718              0.3079                         0.7344   \n",
       "PC 3      0.5888              0.0835                         0.8178   \n",
       "PC 4      0.4619              0.0655                         0.8833   \n",
       "PC 5      0.3959              0.0561                         0.9395   \n",
       "PC 6      0.2398              0.0340                         0.9734   \n",
       "PC 7      0.1873              0.0266                         1.0000   \n",
       "\n",
       "      alcohol (%v/v at 20°C)  malic_acid (g/L)  magnesium (mg/L)  \\\n",
       "PC 1                  0.4118           -0.2166            0.3923   \n",
       "PC 2                  0.3584            0.5076            0.2185   \n",
       "PC 3                 -0.3204            0.3503            0.7918   \n",
       "PC 4                  0.1060            0.5560           -0.3540   \n",
       "PC 5                 -0.2835           -0.4337            0.1451   \n",
       "PC 6                 -0.7041            0.2488           -0.1422   \n",
       "PC 7                  0.1093            0.1165           -0.0701   \n",
       "\n",
       "      flavanoids (mg/L)  nonflavanoid_phenols (mg/L)  color_intensity (units)  \\\n",
       "PC 1             0.4317                      -0.3888                   0.1845   \n",
       "PC 2            -0.3708                       0.3265                   0.5544   \n",
       "PC 3             0.0457                      -0.1262                  -0.2683   \n",
       "PC 4            -0.0159                      -0.7333                   0.0108   \n",
       "PC 5            -0.2860                      -0.3672                   0.6202   \n",
       "PC 6             0.2676                       0.0680                   0.3140   \n",
       "PC 7             0.7214                       0.2215                   0.3212   \n",
       "\n",
       "      proline (mg/L)  \n",
       "PC 1          0.5080  \n",
       "PC 2          0.1209  \n",
       "PC 3         -0.2403  \n",
       "PC 4         -0.1272  \n",
       "PC 5         -0.3305  \n",
       "PC 6          0.4973  \n",
       "PC 7         -0.5449  "
      ]
     },
     "execution_count": 10,
     "metadata": {},
     "output_type": "execute_result"
    }
   ],
   "source": [
    "pca_results = pca_results(data_reduced, pca_)\n",
    "pca_results"
   ]
  },
  {
   "cell_type": "code",
   "execution_count": 11,
   "metadata": {},
   "outputs": [
    {
     "data": {
      "text/plain": [
       "<Figure size 432x288 with 0 Axes>"
      ]
     },
     "metadata": {},
     "output_type": "display_data"
    },
    {
     "data": {
      "image/png": "[encoded data removed]",
      "text/plain": [
       "<Figure size 432x288 with 1 Axes>"
      ]
     },
     "metadata": {
      "needs_background": "light"
     },
     "output_type": "display_data"
    }
   ],
   "source": [
    "#Scree plot\n",
    "import matplotlib.ticker as ticker\n",
    "plt.clf()\n",
    "fig1, ax1 = plt.subplots()\n",
    "ax1.plot(np.arange(1, len(pca_.explained_variance_)+1), pca_.explained_variance_)\n",
    "ax1.xaxis.set_major_locator(ticker.MultipleLocator(1))\n",
    "ax1.set(xlabel = 'Component number', ylabel = 'Eigenvalue', title = 'Screeplot')\n",
    "plt.show()"
   ]
  },
  {
   "cell_type": "code",
   "execution_count": 12,
   "metadata": {},
   "outputs": [],
   "source": [
    "#Extract only 3 PCs\n",
    "pca2 = PCA(n_components=3).fit(data_reduced)\n",
    "scores2 = pca2.transform(data_reduced)"
   ]
  },
  {
   "cell_type": "code",
   "execution_count": 13,
   "metadata": {},
   "outputs": [],
   "source": [
    "# This function plots the loading plot.\n",
    "# Pass original data dataframe and returns of PCA to this function. Optional width, height and margin\n",
    "# This function returns the axes of the loading plot\n",
    "\n",
    "def loadingplot(data, pca, width=9, height=9, margin=0.2):\n",
    "\n",
    "    fig, ax = plt.subplots(figsize = (width,height))\n",
    "    sns.set_style('darkgrid')\n",
    "\n",
    "    #Set limits for figure\n",
    "    x_min = min(pca.components_[0,:].min(),0)-margin\n",
    "    x_max = max(pca.components_[0,:].max(),0)+margin\n",
    "    y_min = min(pca.components_[1,:].min(),0)-margin\n",
    "    y_max = max(pca.components_[1,:].max(),0)+margin\n",
    "\n",
    "    ax.set_xlim(x_min, x_max)\n",
    "    ax.set_ylim(y_min, y_max)\n",
    "\n",
    "    #Scaling factor for text position\n",
    "    text_pos = 0.2\n",
    "    colors = sns.color_palette( as_cmap= True) \n",
    "    \n",
    "\n",
    "\n",
    "    for i, v in enumerate(pca.components_.T):\n",
    "        # display(colors[i])\n",
    "        ax.arrow(0, 0, v[0], v[1], head_width=0.1, head_length=0.1, linewidth=2, color=colors[i] , label = data.columns[i] )\n",
    "\n",
    "    plt.plot([x_min, x_max], [0, 0], color='k', linestyle='--', linewidth=1)\n",
    "    plt.plot([0, 0], [y_min, y_max], color='k', linestyle='--', linewidth=1)\n",
    "    ax.set_xlabel(\"PC1\", fontsize=14)\n",
    "    ax.set_ylabel(\"PC2\", fontsize=14)\n",
    "    ax.set_title(\"Loading plot\", fontsize = 14)\n",
    "    ax.legend() \n",
    "    \n",
    "    return ax"
   ]
  },
  {
   "cell_type": "code",
   "execution_count": 14,
   "metadata": {},
   "outputs": [
    {
     "data": {
      "text/html": [
       "<div>\n",
       "<style scoped>\n",
       "    .dataframe tbody tr th:only-of-type {\n",
       "        vertical-align: middle;\n",
       "    }\n",
       "\n",
       "    .dataframe tbody tr th {\n",
       "        vertical-align: top;\n",
       "    }\n",
       "\n",
       "    .dataframe thead th {\n",
       "        text-align: right;\n",
       "    }\n",
       "</style>\n",
       "<table border=\"1\" class=\"dataframe\">\n",
       "  <thead>\n",
       "    <tr style=\"text-align: right;\">\n",
       "      <th></th>\n",
       "      <th>PC1</th>\n",
       "      <th>PC2</th>\n",
       "      <th>PC3</th>\n",
       "    </tr>\n",
       "  </thead>\n",
       "  <tbody>\n",
       "    <tr>\n",
       "      <th>0</th>\n",
       "      <td>3.073581</td>\n",
       "      <td>0.428910</td>\n",
       "      <td>1.145812</td>\n",
       "    </tr>\n",
       "    <tr>\n",
       "      <th>1</th>\n",
       "      <td>1.413477</td>\n",
       "      <td>-0.780900</td>\n",
       "      <td>-0.096167</td>\n",
       "    </tr>\n",
       "    <tr>\n",
       "      <th>2</th>\n",
       "      <td>1.704442</td>\n",
       "      <td>-0.184967</td>\n",
       "      <td>-0.096864</td>\n",
       "    </tr>\n",
       "    <tr>\n",
       "      <th>3</th>\n",
       "      <td>3.775921</td>\n",
       "      <td>0.775342</td>\n",
       "      <td>-0.302990</td>\n",
       "    </tr>\n",
       "    <tr>\n",
       "      <th>4</th>\n",
       "      <td>0.915151</td>\n",
       "      <td>0.226433</td>\n",
       "      <td>1.496797</td>\n",
       "    </tr>\n",
       "  </tbody>\n",
       "</table>\n",
       "</div>"
      ],
      "text/plain": [
       "        PC1       PC2       PC3\n",
       "0  3.073581  0.428910  1.145812\n",
       "1  1.413477 -0.780900 -0.096167\n",
       "2  1.704442 -0.184967 -0.096864\n",
       "3  3.775921  0.775342 -0.302990\n",
       "4  0.915151  0.226433  1.496797"
      ]
     },
     "execution_count": 14,
     "metadata": {},
     "output_type": "execute_result"
    }
   ],
   "source": [
    "#Obtain scores from original data that are not centred\n",
    "\n",
    "scores_notcentred = np.dot(data_reduced, pca2.components_.T)\n",
    "scores_notcentred = pd.DataFrame(scores_notcentred, columns = ['PC1', 'PC2', 'PC3'])\n",
    "scores_notcentred.head()"
   ]
  },
  {
   "cell_type": "code",
   "execution_count": 15,
   "metadata": {},
   "outputs": [],
   "source": [
    "# pip install plotly"
   ]
  },
  {
   "cell_type": "code",
   "execution_count": 16,
   "metadata": {},
   "outputs": [
    {
     "data": {
      "application/vnd.plotly.v1+json": {
       "config": {
        "plotlyServerURL": "https://plot.ly"
       },
       "data": [
        {
         "line": {
          "color": "red",
          "width": 6
         },
         "marker": {
          "color": "rgb(84,48,5)",
          "size": 1
         },
         "name": "alcohol (%v/v at 20°C)",
         "type": "scatter3d",
         "x": [
          0,
          4.117867356769052
         ],
         "y": [
          0,
          3.5843867793564854
         ],
         "z": [
          0,
          -3.203587095240201
         ]
        },
        {
         "line": {
          "color": "green",
          "width": 6
         },
         "marker": {
          "color": "rgb(84,48,5)",
          "size": 1
         },
         "name": "malic_acid (g/L)",
         "type": "scatter3d",
         "x": [
          0,
          -2.166228994221929
         ],
         "y": [
          0,
          5.07626457798685
         ],
         "z": [
          0,
          3.5029396038355527
         ]
        },
        {
         "line": {
          "color": "blue",
          "width": 6
         },
         "marker": {
          "color": "rgb(84,48,5)",
          "size": 1
         },
         "name": "magnesium (mg/L)",
         "type": "scatter3d",
         "x": [
          0,
          3.9227124091561105
         ],
         "y": [
          0,
          2.1845860490978675
         ],
         "z": [
          0,
          7.917796701537284
         ]
        },
        {
         "line": {
          "color": "purple",
          "width": 6
         },
         "marker": {
          "color": "rgb(84,48,5)",
          "size": 1
         },
         "name": "flavanoids (mg/L)",
         "type": "scatter3d",
         "x": [
          0,
          4.317038238116747
         ],
         "y": [
          0,
          -3.708398952275183
         ],
         "z": [
          0,
          0.457033510148957
         ]
        },
        {
         "line": {
          "color": "yellow",
          "width": 6
         },
         "marker": {
          "color": "rgb(84,48,5)",
          "size": 1
         },
         "name": "nonflavanoid_phenols (mg/L)",
         "type": "scatter3d",
         "x": [
          0,
          -3.8877092153225368
         ],
         "y": [
          0,
          3.2652510020286654
         ],
         "z": [
          0,
          -1.261811408934477
         ]
        },
        {
         "line": {
          "color": "brown",
          "width": 6
         },
         "marker": {
          "color": "rgb(84,48,5)",
          "size": 1
         },
         "name": "color_intensity (units)",
         "type": "scatter3d",
         "x": [
          0,
          1.8453070903166382
         ],
         "y": [
          0,
          5.544037651584281
         ],
         "z": [
          0,
          -2.683419838789262
         ]
        },
        {
         "line": {
          "color": "orange",
          "width": 6
         },
         "marker": {
          "color": "rgb(84,48,5)",
          "size": 1
         },
         "name": "proline (mg/L)",
         "type": "scatter3d",
         "x": [
          0,
          5.080028285537585
         ],
         "y": [
          0,
          1.208657423204897
         ],
         "z": [
          0,
          -2.402737929090915
         ]
        },
        {
         "line": {
          "dash": "dash"
         },
         "marker": {
          "color": "black",
          "line": {
           "color": "black",
           "width": 6
          },
          "size": 1
         },
         "type": "scatter3d",
         "x": [
          -3.888,
          5.08
         ],
         "y": [
          0,
          0
         ],
         "z": [
          0,
          0
         ]
        },
        {
         "line": {
          "dash": "dash"
         },
         "marker": {
          "color": "black",
          "line": {
           "color": "black",
           "width": 6
          },
          "size": 1
         },
         "type": "scatter3d",
         "x": [
          0,
          0
         ],
         "y": [
          -3.708,
          5.5440000000000005
         ],
         "z": [
          0,
          0
         ]
        },
        {
         "line": {
          "dash": "dash"
         },
         "marker": {
          "color": "black",
          "line": {
           "color": "black",
           "width": 6
          },
          "size": 1
         },
         "type": "scatter3d",
         "x": [
          0,
          0
         ],
         "y": [
          0,
          0
         ],
         "z": [
          -3.204,
          7.917999999999999
         ]
        }
       ],
       "layout": {
        "font": {
         "color": "RebeccaPurple",
         "family": "Courier New, monospace",
         "size": 18
        },
        "scene": {
         "xaxis": {
          "title": {
           "text": "PC1"
          }
         },
         "yaxis": {
          "title": {
           "text": "PC2"
          }
         },
         "zaxis": {
          "title": {
           "text": "PC3"
          }
         }
        },
        "template": {
         "data": {
          "bar": [
           {
            "error_x": {
             "color": "#2a3f5f"
            },
            "error_y": {
             "color": "#2a3f5f"
            },
            "marker": {
             "line": {
              "color": "#E5ECF6",
              "width": 0.5
             },
             "pattern": {
              "fillmode": "overlay",
              "size": 10,
              "solidity": 0.2
             }
            },
            "type": "bar"
           }
          ],
          "barpolar": [
           {
            "marker": {
             "line": {
              "color": "#E5ECF6",
              "width": 0.5
             },
             "pattern": {
              "fillmode": "overlay",
              "size": 10,
              "solidity": 0.2
             }
            },
            "type": "barpolar"
           }
          ],
          "carpet": [
           {
            "aaxis": {
             "endlinecolor": "#2a3f5f",
             "gridcolor": "white",
             "linecolor": "white",
             "minorgridcolor": "white",
             "startlinecolor": "#2a3f5f"
            },
            "baxis": {
             "endlinecolor": "#2a3f5f",
             "gridcolor": "white",
             "linecolor": "white",
             "minorgridcolor": "white",
             "startlinecolor": "#2a3f5f"
            },
            "type": "carpet"
           }
          ],
          "choropleth": [
           {
            "colorbar": {
             "outlinewidth": 0,
             "ticks": ""
            },
            "type": "choropleth"
           }
          ],
          "contour": [
           {
            "colorbar": {
             "outlinewidth": 0,
             "ticks": ""
            },
            "colorscale": [
             [
              0,
              "#0d0887"
             ],
             [
              0.1111111111111111,
              "#46039f"
             ],
             [
              0.2222222222222222,
              "#7201a8"
             ],
             [
              0.3333333333333333,
              "#9c179e"
             ],
             [
              0.4444444444444444,
              "#bd3786"
             ],
             [
              0.5555555555555556,
              "#d8576b"
             ],
             [
              0.6666666666666666,
              "#ed7953"
             ],
             [
              0.7777777777777778,
              "#fb9f3a"
             ],
             [
              0.8888888888888888,
              "#fdca26"
             ],
             [
              1,
              "#f0f921"
             ]
            ],
            "type": "contour"
           }
          ],
          "contourcarpet": [
           {
            "colorbar": {
             "outlinewidth": 0,
             "ticks": ""
            },
            "type": "contourcarpet"
           }
          ],
          "heatmap": [
           {
            "colorbar": {
             "outlinewidth": 0,
             "ticks": ""
            },
            "colorscale": [
             [
              0,
              "#0d0887"
             ],
             [
              0.1111111111111111,
              "#46039f"
             ],
             [
              0.2222222222222222,
              "#7201a8"
             ],
             [
              0.3333333333333333,
              "#9c179e"
             ],
             [
              0.4444444444444444,
              "#bd3786"
             ],
             [
              0.5555555555555556,
              "#d8576b"
             ],
             [
              0.6666666666666666,
              "#ed7953"
             ],
             [
              0.7777777777777778,
              "#fb9f3a"
             ],
             [
              0.8888888888888888,
              "#fdca26"
             ],
             [
              1,
              "#f0f921"
             ]
            ],
            "type": "heatmap"
           }
          ],
          "heatmapgl": [
           {
            "colorbar": {
             "outlinewidth": 0,
             "ticks": ""
            },
            "colorscale": [
             [
              0,
              "#0d0887"
             ],
             [
              0.1111111111111111,
              "#46039f"
             ],
             [
              0.2222222222222222,
              "#7201a8"
             ],
             [
              0.3333333333333333,
              "#9c179e"
             ],
             [
              0.4444444444444444,
              "#bd3786"
             ],
             [
              0.5555555555555556,
              "#d8576b"
             ],
             [
              0.6666666666666666,
              "#ed7953"
             ],
             [
              0.7777777777777778,
              "#fb9f3a"
             ],
             [
              0.8888888888888888,
              "#fdca26"
             ],
             [
              1,
              "#f0f921"
             ]
            ],
            "type": "heatmapgl"
           }
          ],
          "histogram": [
           {
            "marker": {
             "pattern": {
              "fillmode": "overlay",
              "size": 10,
              "solidity": 0.2
             }
            },
            "type": "histogram"
           }
          ],
          "histogram2d": [
           {
            "colorbar": {
             "outlinewidth": 0,
             "ticks": ""
            },
            "colorscale": [
             [
              0,
              "#0d0887"
             ],
             [
              0.1111111111111111,
              "#46039f"
             ],
             [
              0.2222222222222222,
              "#7201a8"
             ],
             [
              0.3333333333333333,
              "#9c179e"
             ],
             [
              0.4444444444444444,
              "#bd3786"
             ],
             [
              0.5555555555555556,
              "#d8576b"
             ],
             [
              0.6666666666666666,
              "#ed7953"
             ],
             [
              0.7777777777777778,
              "#fb9f3a"
             ],
             [
              0.8888888888888888,
              "#fdca26"
             ],
             [
              1,
              "#f0f921"
             ]
            ],
            "type": "histogram2d"
           }
          ],
          "histogram2dcontour": [
           {
            "colorbar": {
             "outlinewidth": 0,
             "ticks": ""
            },
            "colorscale": [
             [
              0,
              "#0d0887"
             ],
             [
              0.1111111111111111,
              "#46039f"
             ],
             [
              0.2222222222222222,
              "#7201a8"
             ],
             [
              0.3333333333333333,
              "#9c179e"
             ],
             [
              0.4444444444444444,
              "#bd3786"
             ],
             [
              0.5555555555555556,
              "#d8576b"
             ],
             [
              0.6666666666666666,
              "#ed7953"
             ],
             [
              0.7777777777777778,
              "#fb9f3a"
             ],
             [
              0.8888888888888888,
              "#fdca26"
             ],
             [
              1,
              "#f0f921"
             ]
            ],
            "type": "histogram2dcontour"
           }
          ],
          "mesh3d": [
           {
            "colorbar": {
             "outlinewidth": 0,
             "ticks": ""
            },
            "type": "mesh3d"
           }
          ],
          "parcoords": [
           {
            "line": {
             "colorbar": {
              "outlinewidth": 0,
              "ticks": ""
             }
            },
            "type": "parcoords"
           }
          ],
          "pie": [
           {
            "automargin": true,
            "type": "pie"
           }
          ],
          "scatter": [
           {
            "marker": {
             "colorbar": {
              "outlinewidth": 0,
              "ticks": ""
             }
            },
            "type": "scatter"
           }
          ],
          "scatter3d": [
           {
            "line": {
             "colorbar": {
              "outlinewidth": 0,
              "ticks": ""
             }
            },
            "marker": {
             "colorbar": {
              "outlinewidth": 0,
              "ticks": ""
             }
            },
            "type": "scatter3d"
           }
          ],
          "scattercarpet": [
           {
            "marker": {
             "colorbar": {
              "outlinewidth": 0,
              "ticks": ""
             }
            },
            "type": "scattercarpet"
           }
          ],
          "scattergeo": [
           {
            "marker": {
             "colorbar": {
              "outlinewidth": 0,
              "ticks": ""
             }
            },
            "type": "scattergeo"
           }
          ],
          "scattergl": [
           {
            "marker": {
             "colorbar": {
              "outlinewidth": 0,
              "ticks": ""
             }
            },
            "type": "scattergl"
           }
          ],
          "scattermapbox": [
           {
            "marker": {
             "colorbar": {
              "outlinewidth": 0,
              "ticks": ""
             }
            },
            "type": "scattermapbox"
           }
          ],
          "scatterpolar": [
           {
            "marker": {
             "colorbar": {
              "outlinewidth": 0,
              "ticks": ""
             }
            },
            "type": "scatterpolar"
           }
          ],
          "scatterpolargl": [
           {
            "marker": {
             "colorbar": {
              "outlinewidth": 0,
              "ticks": ""
             }
            },
            "type": "scatterpolargl"
           }
          ],
          "scatterternary": [
           {
            "marker": {
             "colorbar": {
              "outlinewidth": 0,
              "ticks": ""
             }
            },
            "type": "scatterternary"
           }
          ],
          "surface": [
           {
            "colorbar": {
             "outlinewidth": 0,
             "ticks": ""
            },
            "colorscale": [
             [
              0,
              "#0d0887"
             ],
             [
              0.1111111111111111,
              "#46039f"
             ],
             [
              0.2222222222222222,
              "#7201a8"
             ],
             [
              0.3333333333333333,
              "#9c179e"
             ],
             [
              0.4444444444444444,
              "#bd3786"
             ],
             [
              0.5555555555555556,
              "#d8576b"
             ],
             [
              0.6666666666666666,
              "#ed7953"
             ],
             [
              0.7777777777777778,
              "#fb9f3a"
             ],
             [
              0.8888888888888888,
              "#fdca26"
             ],
             [
              1,
              "#f0f921"
             ]
            ],
            "type": "surface"
           }
          ],
          "table": [
           {
            "cells": {
             "fill": {
              "color": "#EBF0F8"
             },
             "line": {
              "color": "white"
             }
            },
            "header": {
             "fill": {
              "color": "#C8D4E3"
             },
             "line": {
              "color": "white"
             }
            },
            "type": "table"
           }
          ]
         },
         "layout": {
          "annotationdefaults": {
           "arrowcolor": "#2a3f5f",
           "arrowhead": 0,
           "arrowwidth": 1
          },
          "autotypenumbers": "strict",
          "coloraxis": {
           "colorbar": {
            "outlinewidth": 0,
            "ticks": ""
           }
          },
          "colorscale": {
           "diverging": [
            [
             0,
             "#8e0152"
            ],
            [
             0.1,
             "#c51b7d"
            ],
            [
             0.2,
             "#de77ae"
            ],
            [
             0.3,
             "#f1b6da"
            ],
            [
             0.4,
             "#fde0ef"
            ],
            [
             0.5,
             "#f7f7f7"
            ],
            [
             0.6,
             "#e6f5d0"
            ],
            [
             0.7,
             "#b8e186"
            ],
            [
             0.8,
             "#7fbc41"
            ],
            [
             0.9,
             "#4d9221"
            ],
            [
             1,
             "#276419"
            ]
           ],
           "sequential": [
            [
             0,
             "#0d0887"
            ],
            [
             0.1111111111111111,
             "#46039f"
            ],
            [
             0.2222222222222222,
             "#7201a8"
            ],
            [
             0.3333333333333333,
             "#9c179e"
            ],
            [
             0.4444444444444444,
             "#bd3786"
            ],
            [
             0.5555555555555556,
             "#d8576b"
            ],
            [
             0.6666666666666666,
             "#ed7953"
            ],
            [
             0.7777777777777778,
             "#fb9f3a"
            ],
            [
             0.8888888888888888,
             "#fdca26"
            ],
            [
             1,
             "#f0f921"
            ]
           ],
           "sequentialminus": [
            [
             0,
             "#0d0887"
            ],
            [
             0.1111111111111111,
             "#46039f"
            ],
            [
             0.2222222222222222,
             "#7201a8"
            ],
            [
             0.3333333333333333,
             "#9c179e"
            ],
            [
             0.4444444444444444,
             "#bd3786"
            ],
            [
             0.5555555555555556,
             "#d8576b"
            ],
            [
             0.6666666666666666,
             "#ed7953"
            ],
            [
             0.7777777777777778,
             "#fb9f3a"
            ],
            [
             0.8888888888888888,
             "#fdca26"
            ],
            [
             1,
             "#f0f921"
            ]
           ]
          },
          "colorway": [
           "#636efa",
           "#EF553B",
           "#00cc96",
           "#ab63fa",
           "#FFA15A",
           "#19d3f3",
           "#FF6692",
           "#B6E880",
           "#FF97FF",
           "#FECB52"
          ],
          "font": {
           "color": "#2a3f5f"
          },
          "geo": {
           "bgcolor": "white",
           "lakecolor": "white",
           "landcolor": "#E5ECF6",
           "showlakes": true,
           "showland": true,
           "subunitcolor": "white"
          },
          "hoverlabel": {
           "align": "left"
          },
          "hovermode": "closest",
          "mapbox": {
           "style": "light"
          },
          "paper_bgcolor": "white",
          "plot_bgcolor": "#E5ECF6",
          "polar": {
           "angularaxis": {
            "gridcolor": "white",
            "linecolor": "white",
            "ticks": ""
           },
           "bgcolor": "#E5ECF6",
           "radialaxis": {
            "gridcolor": "white",
            "linecolor": "white",
            "ticks": ""
           }
          },
          "scene": {
           "xaxis": {
            "backgroundcolor": "#E5ECF6",
            "gridcolor": "white",
            "gridwidth": 2,
            "linecolor": "white",
            "showbackground": true,
            "ticks": "",
            "zerolinecolor": "white"
           },
           "yaxis": {
            "backgroundcolor": "#E5ECF6",
            "gridcolor": "white",
            "gridwidth": 2,
            "linecolor": "white",
            "showbackground": true,
            "ticks": "",
            "zerolinecolor": "white"
           },
           "zaxis": {
            "backgroundcolor": "#E5ECF6",
            "gridcolor": "white",
            "gridwidth": 2,
            "linecolor": "white",
            "showbackground": true,
            "ticks": "",
            "zerolinecolor": "white"
           }
          },
          "shapedefaults": {
           "line": {
            "color": "#2a3f5f"
           }
          },
          "ternary": {
           "aaxis": {
            "gridcolor": "white",
            "linecolor": "white",
            "ticks": ""
           },
           "baxis": {
            "gridcolor": "white",
            "linecolor": "white",
            "ticks": ""
           },
           "bgcolor": "#E5ECF6",
           "caxis": {
            "gridcolor": "white",
            "linecolor": "white",
            "ticks": ""
           }
          },
          "title": {
           "x": 0.05
          },
          "xaxis": {
           "automargin": true,
           "gridcolor": "white",
           "linecolor": "white",
           "ticks": "",
           "title": {
            "standoff": 15
           },
           "zerolinecolor": "white",
           "zerolinewidth": 2
          },
          "yaxis": {
           "automargin": true,
           "gridcolor": "white",
           "linecolor": "white",
           "ticks": "",
           "title": {
            "standoff": 15
           },
           "zerolinecolor": "white",
           "zerolinewidth": 2
          }
         }
        },
        "title": {
         "text": "Loading plot"
        },
        "xaxis": {
         "title": {
          "font": {
           "color": "#7f7f7f",
           "family": "Courier New, monospace",
           "size": 18
          }
         }
        }
       }
      }
     },
     "metadata": {},
     "output_type": "display_data"
    }
   ],
   "source": [
    "import plotly.graph_objs as go\n",
    "\n",
    "# trace1 = go.Scatter3d(\n",
    "#     x=scores2[:,0],\n",
    "#     y = scores2[:,1],\n",
    "#     z = scores2[:,2],\n",
    "#     mode='markers',\n",
    "#     marker=dict(\n",
    "#         size=12,\n",
    "#         opacity=0\n",
    "# )\n",
    "\n",
    "# ) \n",
    "\n",
    "dc_1 = go.Scatter3d( x = [0,pca2.components_.T[0][0]*10],\n",
    "                     y = [0,pca2.components_.T[0][1]*10],\n",
    "                     z = [0,pca2.components_.T[0][2]*10],\n",
    "                     marker = dict( size = 1,\n",
    "                                    color = \"rgb(84,48,5)\"),\n",
    "                     line = dict( color = \"red\",\n",
    "                                width = 6),\n",
    "                     name = \"alcohol (%v/v at 20°C)\"\n",
    "                     )\n",
    "dc_2 = go.Scatter3d( x = [0,pca2.components_.T[1][0]*10],\n",
    "                   y = [0,pca2.components_.T[1][1]*10],\n",
    "                   z = [0,pca2.components_.T[1][2]*10],\n",
    "                   marker = dict( size = 1,\n",
    "                                  color = \"rgb(84,48,5)\"),\n",
    "                   line = dict( color = \"green\",\n",
    "                                width = 6),\n",
    "                   name = \"malic_acid (g/L)\"\n",
    "                 )\n",
    "dc_3 = go.Scatter3d( x = [0,pca2.components_.T[2][0]*10],\n",
    "                     y = [0,pca2.components_.T[2][1]*10],\n",
    "                     z = [0,pca2.components_.T[2][2]*10],\n",
    "                     marker = dict( size = 1,\n",
    "                                  color = \"rgb(84,48,5)\"),\n",
    "                     line = dict( color = \"blue\",\n",
    "                                width = 6),\n",
    "                     name = \"magnesium (mg/L)\"\n",
    "                 ) \n",
    "dc_4 = go.Scatter3d( x = [0,pca2.components_.T[3][0]*10],\n",
    "                     y = [0,pca2.components_.T[3][1]*10],\n",
    "                     z = [0,pca2.components_.T[3][2]*10],\n",
    "                     marker = dict( size = 1,\n",
    "                                  color = \"rgb(84,48,5)\"),\n",
    "                     line = dict( color = \"purple\",\n",
    "                                width = 6),\n",
    "                     name = \"flavanoids (mg/L)\"\n",
    "                 ) \n",
    "dc_5 = go.Scatter3d( x = [0,pca2.components_.T[4][0]*10],\n",
    "                     y = [0,pca2.components_.T[4][1]*10],\n",
    "                     z = [0,pca2.components_.T[4][2]*10],\n",
    "                     marker = dict( size = 1,\n",
    "                                  color = \"rgb(84,48,5)\"),\n",
    "                     line = dict( color = \"yellow\",\n",
    "                                width = 6),\n",
    "                     name = \"nonflavanoid_phenols (mg/L)\"\n",
    "                   )\n",
    "dc_6 = go.Scatter3d( x = [0,pca2.components_.T[5][0]*10],\n",
    "                     y = [0,pca2.components_.T[5][1]*10],\n",
    "                     z = [0,pca2.components_.T[5][2]*10],\n",
    "                     marker = dict( size = 1,\n",
    "                                  color = \"rgb(84,48,5)\"),\n",
    "                     line = dict( color = \"brown\",\n",
    "                                width = 6),\n",
    "                     name = \"color_intensity (units)\")\n",
    "\n",
    "dc_7 = go.Scatter3d( x = [0,pca2.components_.T[6][0]*10],\n",
    "                     y = [0,pca2.components_.T[6][1]*10],\n",
    "                     z = [0,pca2.components_.T[6][2]*10],\n",
    "                     marker = dict( size = 1,\n",
    "                                  color = \"rgb(84,48,5)\"),\n",
    "                     line = dict( color = \"orange\",\n",
    "                                width = 6),\n",
    "                     name = \"proline (mg/L)\")\n",
    "arr = [dc_1,dc_2,dc_3,dc_4,dc_5,dc_6,dc_7]\n",
    "layout = go.Layout(\n",
    "    xaxis=dict(\n",
    "        titlefont=dict(\n",
    "           family='Courier New, monospace',\n",
    "           size=18,\n",
    "           color='#7f7f7f'\n",
    "       )\n",
    "   )\n",
    ")\n",
    "\n",
    "minpca = pca_results[data_reduced.columns] *10\n",
    "mins = minpca.min(axis = 1 )\n",
    "maxs = minpca.max(axis = 1 )\n",
    "\n",
    "arr.append(go.Scatter3d( x = [mins['PC 1'],maxs['PC 1']],\n",
    "                         y = [0,0],\n",
    "                         z = [0,0],\n",
    "                         marker = dict( size = 1,\n",
    "                                        color = 'black',\n",
    "                         line = dict( color = 'black',\n",
    "                                    width = 6),\n",
    "                        \n",
    "                         ) ,line  = dict( dash = 'dash')))\n",
    "\n",
    "arr.append(go.Scatter3d( x = [0,0],\n",
    "                         y = [mins['PC 2'],maxs['PC 2']],\n",
    "                         z = [0,0],\n",
    "                         marker = dict( size = 1,\n",
    "                                        color = 'black',\n",
    "                         line = dict( color = 'black',\n",
    "                                    width = 6),\n",
    "                        \n",
    "                         ) ,line  = dict( dash = 'dash')))\n",
    "arr.append(go.Scatter3d( x = [0,0],\n",
    "                         y = [0,0],\n",
    "                         z = [mins['PC 3'],maxs['PC 3']],\n",
    "                         marker = dict( size = 1,\n",
    "                                        color = 'black',\n",
    "                         line = dict( color = 'black',\n",
    "                                    width = 6 ),\n",
    "                         \n",
    "                         ) ,line  = dict( dash = 'dash')))\n",
    "\n",
    "fig = go.Figure(data=arr, layout=layout)\n",
    "\n",
    "fig.update_layout(\n",
    "    scene = dict(xaxis_title='PC1',\n",
    "                    yaxis_title='PC2',\n",
    "                    zaxis_title='PC3' ),\n",
    "    title=\"Loading plot\",\n",
    "    font=dict(\n",
    "        family=\"Courier New, monospace\",\n",
    "        size=18,\n",
    "        color=\"RebeccaPurple\"\n",
    "    )\n",
    ")\n",
    "fig.show()\n"
   ]
  },
  {
   "cell_type": "markdown",
   "metadata": {},
   "source": [
    "# C)"
   ]
  },
  {
   "cell_type": "code",
   "execution_count": 17,
   "metadata": {},
   "outputs": [
    {
     "data": {
      "text/html": [
       "<div>\n",
       "<style scoped>\n",
       "    .dataframe tbody tr th:only-of-type {\n",
       "        vertical-align: middle;\n",
       "    }\n",
       "\n",
       "    .dataframe tbody tr th {\n",
       "        vertical-align: top;\n",
       "    }\n",
       "\n",
       "    .dataframe thead th {\n",
       "        text-align: right;\n",
       "    }\n",
       "</style>\n",
       "<table border=\"1\" class=\"dataframe\">\n",
       "  <thead>\n",
       "    <tr style=\"text-align: right;\">\n",
       "      <th></th>\n",
       "      <th>alcohol (%v/v at 20°C)</th>\n",
       "      <th>malic_acid (g/L)</th>\n",
       "      <th>magnesium (mg/L)</th>\n",
       "      <th>flavanoids (mg/L)</th>\n",
       "      <th>nonflavanoid_phenols (mg/L)</th>\n",
       "      <th>color_intensity (units)</th>\n",
       "      <th>proline (mg/L)</th>\n",
       "    </tr>\n",
       "  </thead>\n",
       "  <tbody>\n",
       "    <tr>\n",
       "      <th>count</th>\n",
       "      <td>131.000000</td>\n",
       "      <td>131.000000</td>\n",
       "      <td>131.000000</td>\n",
       "      <td>131.000000</td>\n",
       "      <td>131.000000</td>\n",
       "      <td>131.000000</td>\n",
       "      <td>131.000000</td>\n",
       "    </tr>\n",
       "    <tr>\n",
       "      <th>mean</th>\n",
       "      <td>12.987786</td>\n",
       "      <td>2.324733</td>\n",
       "      <td>97.679389</td>\n",
       "      <td>1.984580</td>\n",
       "      <td>0.369008</td>\n",
       "      <td>5.079771</td>\n",
       "      <td>749.885496</td>\n",
       "    </tr>\n",
       "    <tr>\n",
       "      <th>std</th>\n",
       "      <td>0.797958</td>\n",
       "      <td>1.043741</td>\n",
       "      <td>11.576679</td>\n",
       "      <td>1.001207</td>\n",
       "      <td>0.118204</td>\n",
       "      <td>2.201531</td>\n",
       "      <td>322.561852</td>\n",
       "    </tr>\n",
       "    <tr>\n",
       "      <th>min</th>\n",
       "      <td>11.410000</td>\n",
       "      <td>0.740000</td>\n",
       "      <td>70.000000</td>\n",
       "      <td>0.340000</td>\n",
       "      <td>0.170000</td>\n",
       "      <td>1.280000</td>\n",
       "      <td>278.000000</td>\n",
       "    </tr>\n",
       "    <tr>\n",
       "      <th>25%</th>\n",
       "      <td>12.315000</td>\n",
       "      <td>1.645000</td>\n",
       "      <td>88.000000</td>\n",
       "      <td>0.880000</td>\n",
       "      <td>0.280000</td>\n",
       "      <td>3.250000</td>\n",
       "      <td>505.000000</td>\n",
       "    </tr>\n",
       "    <tr>\n",
       "      <th>50%</th>\n",
       "      <td>13.050000</td>\n",
       "      <td>1.880000</td>\n",
       "      <td>97.000000</td>\n",
       "      <td>2.110000</td>\n",
       "      <td>0.370000</td>\n",
       "      <td>4.900000</td>\n",
       "      <td>672.000000</td>\n",
       "    </tr>\n",
       "    <tr>\n",
       "      <th>75%</th>\n",
       "      <td>13.685000</td>\n",
       "      <td>2.975000</td>\n",
       "      <td>105.500000</td>\n",
       "      <td>2.890000</td>\n",
       "      <td>0.435000</td>\n",
       "      <td>6.275000</td>\n",
       "      <td>1005.000000</td>\n",
       "    </tr>\n",
       "    <tr>\n",
       "      <th>max</th>\n",
       "      <td>14.390000</td>\n",
       "      <td>5.510000</td>\n",
       "      <td>127.000000</td>\n",
       "      <td>3.740000</td>\n",
       "      <td>0.630000</td>\n",
       "      <td>10.680000</td>\n",
       "      <td>1547.000000</td>\n",
       "    </tr>\n",
       "  </tbody>\n",
       "</table>\n",
       "</div>"
      ],
      "text/plain": [
       "       alcohol (%v/v at 20°C)  malic_acid (g/L)  magnesium (mg/L)  \\\n",
       "count              131.000000        131.000000        131.000000   \n",
       "mean                12.987786          2.324733         97.679389   \n",
       "std                  0.797958          1.043741         11.576679   \n",
       "min                 11.410000          0.740000         70.000000   \n",
       "25%                 12.315000          1.645000         88.000000   \n",
       "50%                 13.050000          1.880000         97.000000   \n",
       "75%                 13.685000          2.975000        105.500000   \n",
       "max                 14.390000          5.510000        127.000000   \n",
       "\n",
       "       flavanoids (mg/L)  nonflavanoid_phenols (mg/L)  \\\n",
       "count         131.000000                   131.000000   \n",
       "mean            1.984580                     0.369008   \n",
       "std             1.001207                     0.118204   \n",
       "min             0.340000                     0.170000   \n",
       "25%             0.880000                     0.280000   \n",
       "50%             2.110000                     0.370000   \n",
       "75%             2.890000                     0.435000   \n",
       "max             3.740000                     0.630000   \n",
       "\n",
       "       color_intensity (units)  proline (mg/L)  \n",
       "count               131.000000      131.000000  \n",
       "mean                  5.079771      749.885496  \n",
       "std                   2.201531      322.561852  \n",
       "min                   1.280000      278.000000  \n",
       "25%                   3.250000      505.000000  \n",
       "50%                   4.900000      672.000000  \n",
       "75%                   6.275000     1005.000000  \n",
       "max                  10.680000     1547.000000  "
      ]
     },
     "execution_count": 17,
     "metadata": {},
     "output_type": "execute_result"
    }
   ],
   "source": [
    "data.describe()"
   ]
  },
  {
   "cell_type": "code",
   "execution_count": 18,
   "metadata": {},
   "outputs": [
    {
     "data": {
      "application/vnd.plotly.v1+json": {
       "config": {
        "plotlyServerURL": "https://plot.ly"
       },
       "data": [
        {
         "hovertemplate": "color=0<br>PC1=%{x}<br>PC2=%{y}<br>PC3=%{z}<extra></extra>",
         "legendgroup": "0",
         "marker": {
          "color": "#636efa",
          "symbol": "circle"
         },
         "mode": "markers",
         "name": "0",
         "scene": "scene",
         "showlegend": true,
         "type": "scatter3d",
         "x": [
          3.073581337139858,
          1.4134774669144046,
          1.7044416815093775,
          3.7759209477322626,
          0.9151506860523809,
          3.1842033926399043,
          2.091809204454456,
          2.6666222939147928,
          2.3088633214631744,
          3.1875723992619758,
          2.0554437715548968,
          1.765109252101981,
          3.404132880699477,
          2.627755799105843,
          3.0845575452999205,
          2.42186786580749,
          2.0611355139302265,
          2.6981173997299805,
          1.6414293249313585,
          0.8991644733475704,
          1.3542418091532578,
          1.4980474233410532,
          1.5401290478153424,
          2.37601521984669,
          3.1047793026723087,
          1.0889233509217702,
          1.7674429663822044,
          1.5025590583927013,
          1.2752280765064925,
          1.1289561275317193,
          1.1138222555634245,
          1.902182658975941,
          2.5797433506914036,
          1.408484750456553,
          2.3106787064322707,
          1.9718510267643763,
          1.98733817621743,
          2.2370067540006007,
          2.787142346059253,
          2.45310754331897,
          2.693571550942409,
          2.629384802224853,
          2.7164888452174485,
          2.0110145571329636,
          3.22803096431343
         ],
         "y": [
          0.428909541420889,
          -0.7809004506575454,
          -0.18496713285133917,
          0.7753415180259995,
          0.22643273710491596,
          0.6247448179686858,
          0.2342212226638206,
          0.6784650851121721,
          -0.2709901009114783,
          0.10538210398815541,
          -0.24129211120715457,
          -0.27252248255227657,
          0.5646614650374877,
          0.5460589952695483,
          0.7617389304416188,
          0.42634883728945916,
          0.11998390739755826,
          0.0377599418819424,
          -0.6620810608296197,
          -0.8900296617405207,
          -0.5170816935130524,
          -0.08109242439949713,
          -0.30060884482513484,
          -0.3365901016922951,
          -0.013333909093759484,
          -0.1536460847686733,
          -0.30178987265656493,
          -0.5886833380159816,
          -0.3804922975609181,
          -0.7561792762836553,
          -1.0972134393543898,
          0.040535991582161285,
          -0.666290645905284,
          -0.6498151595820602,
          -0.4576743081374645,
          0.3696633211504939,
          -0.7131977104182547,
          -0.4811067685251684,
          0.22201571031621353,
          0.7758004605762199,
          -0.06547061514664998,
          -0.01465523314449534,
          0.3672131569278542,
          -0.15349611640015703,
          -0.3980632281711779
         ],
         "z": [
          1.145812133833997,
          -0.09616653301696163,
          -0.09686427001672003,
          -0.3029900920799815,
          1.4967973128176841,
          -0.32798003791126434,
          -1.1598318124240847,
          0.7934769899094676,
          -0.9273573248163199,
          -0.4306416848004167,
          -1.1742606310506292,
          -1.4732113714118016,
          -1.1492967638914218,
          -0.023159565697565946,
          0.4285522465112902,
          0.1568915645723566,
          1.4437362834391694,
          1.3785052033848706,
          -0.12912856418438962,
          -0.2513808259704138,
          -0.8939993256930231,
          0.13285259012737854,
          -0.7825980438298064,
          -0.6823663728434259,
          -0.4712744930396439,
          -0.06186453441941408,
          0.41789467925858237,
          -0.17971140637251,
          0.5218016387691669,
          -0.2893148776998069,
          -0.19671658253714,
          0.8174446908201982,
          -0.2935217124042157,
          0.47370448596509585,
          -0.42271127862171703,
          -0.45918230348077,
          -0.9018231267079968,
          -1.0624431702628554,
          -0.051682204401670095,
          0.12852154187879847,
          0.7576239486028807,
          0.6244760599791476,
          0.5277357348261104,
          -0.325878178283043,
          -0.22950866762756245
         ]
        },
        {
         "hovertemplate": "color=1<br>PC1=%{x}<br>PC2=%{y}<br>PC3=%{z}<extra></extra>",
         "legendgroup": "1",
         "marker": {
          "color": "#EF553B",
          "symbol": "circle"
         },
         "mode": "markers",
         "name": "1",
         "scene": "scene",
         "showlegend": true,
         "type": "scatter3d",
         "x": [
          0.0649145896632288,
          -1.1988376922827513,
          0.05384507997538092,
          -0.8281656525503589,
          -1.3185270549667265,
          -0.23914439857709574,
          -1.3137754144493403,
          -0.9794392881683649,
          -1.2323520681341182,
          0.01122803141004854,
          -1.600020198866453,
          -2.0802527647709406,
          -0.3655151201562494,
          -0.31206920649029335,
          -1.494234162980389,
          -1.6559939875934835,
          -1.9046088568561563,
          -2.022119580053391,
          -2.294950348219557,
          -2.0882865764305514,
          -2.087468321899256,
          -1.2617509155207076,
          -0.645713223479035,
          -0.8105290809355794,
          -1.4765996253023013,
          -0.2150330292906817,
          -0.8527639753410307,
          -0.8856042966808009,
          -1.8121765598424642,
          -0.7242098284926113,
          -1.3638486322736532,
          -1.5117214946286472,
          -1.3131732678347077,
          -0.2850024707913458,
          -0.5660525869693578,
          -1.0409146064305776,
          -1.6056350861723199,
          -1.6414345027714912,
          -1.5702671907655086,
          -1.4290711504026703,
          -0.5469573348833612,
          -2.2025344148701307,
          -1.8712489355824622,
          -0.7104015954983725,
          -1.3707829292311902,
          -0.8104531776189953,
          -1.9829656822682298,
          -1.2992891637267543
         ],
         "y": [
          -2.2585676273512725,
          -1.0511991480476526,
          -1.2097160555222974,
          -1.6866944571587836,
          -1.1996052067090643,
          -1.5283159348206832,
          -0.2622986656163512,
          -0.09589880055925772,
          -2.4758817350137416,
          -1.4101050478603019,
          -1.9021274495690408,
          1.193322890995947,
          -2.3843174423728106,
          -1.6842008694201278,
          -1.349682975026204,
          -1.578568795204644,
          -1.1814058418104565,
          -2.02245135978595,
          -1.146902307939763,
          -0.9149299114164817,
          -0.6860402244144502,
          -1.5936251733348623,
          -2.043213169569192,
          -2.0842571455603367,
          -1.0666214995286454,
          -1.3778280094152842,
          -1.5613035075801138,
          -1.0455635718847127,
          -1.8015335426561971,
          -1.4280912372315908,
          -1.4869453454063888,
          -0.8176113781094685,
          -1.6876633158590386,
          -2.374260341881153,
          -1.0222135104393706,
          -1.68966190312481,
          -0.033004210877247316,
          -2.1609053114633565,
          -1.7575306350601931,
          -2.1005416583466823,
          -1.444776548661469,
          -0.018006237110005176,
          -1.0077025214670574,
          -1.6333767063843037,
          -1.705424942857831,
          -1.673660559441872,
          -0.8851826413077247,
          -1.7898525209848082
         ],
         "z": [
          -0.3200814261999005,
          0.9271621486496723,
          0.037317059693299647,
          -1.156090196955686,
          0.7480062080583209,
          -0.8322421870086468,
          2.024561965799828,
          1.3467259349409297,
          -0.1219625951202342,
          -0.554373188962606,
          -0.997529978654064,
          -0.4448237588430449,
          0.31685175436580787,
          0.3628124097312038,
          -0.000924793662500801,
          0.04754161840009643,
          -0.2864312929349658,
          -1.4403556014481438,
          -0.6002927538419561,
          -0.44699532211346726,
          -1.1727353322794627,
          0.6289331962105063,
          1.2129906682612743,
          -0.281803510164184,
          0.4579790077266025,
          0.6096541988022256,
          -0.3217272519263339,
          0.8742715824069809,
          0.06807493337869142,
          -0.5087288757132675,
          -0.7309169395390677,
          -0.7405286830326754,
          0.16955062163942866,
          0.45134594033087844,
          2.305179068505706,
          0.3838618727505903,
          0.9977864166810073,
          -0.13517534130062422,
          -0.40005741747249496,
          0.010666727010715592,
          1.40477028886152,
          -0.3645985649006308,
          0.6243151932258332,
          0.9364969039208166,
          0.03520021795576603,
          -0.3769357217891824,
          0.2795467284767379,
          0.005623627710921895
         ]
        },
        {
         "hovertemplate": "color=2<br>PC1=%{x}<br>PC2=%{y}<br>PC3=%{z}<extra></extra>",
         "legendgroup": "2",
         "marker": {
          "color": "#00cc96",
          "symbol": "circle"
         },
         "mode": "markers",
         "name": "2",
         "scene": "scene",
         "showlegend": true,
         "type": "scatter3d",
         "x": [
          -0.20513401356560487,
          -0.38645913430751444,
          -1.9501667349870873,
          -1.7060344175389643,
          -2.5142823076945198,
          -2.7969451776549032,
          -1.8969364148587025,
          -1.4930098286578106,
          -1.6396087411855758,
          -0.7059020322439041,
          -1.4147639401796184,
          -1.6320029744059636,
          -0.05008630334694271,
          -0.8097758364861778,
          -2.0635912463012267,
          -1.8266750757500356,
          -0.8860882484729414,
          -1.0228641872952853,
          -0.9158500686850115,
          -1.8457545663682724,
          -1.189963878707663,
          -2.0085170733598163,
          -0.6063017329599082,
          -1.5895411760242706,
          -0.7256941740205974,
          -0.4761110670745791,
          -1.7567098741443048,
          0.12828574003789284,
          -0.9762973081612106,
          0.2393089115817965,
          0.20827547810611102,
          -1.7052827761799785,
          -1.5653034424844343,
          -0.20231141848176268,
          -0.5185269014360598,
          0.30172616514590767,
          0.19970726290981602,
          -0.9494309632253335
         ],
         "y": [
          0.3207120856073312,
          0.06214840515405514,
          0.2335885760238419,
          1.5277666660749012,
          1.35977697813311,
          2.4468958614726946,
          1.8982244951726883,
          1.1671227847184442,
          0.9998065388540831,
          0.8158647695354786,
          1.2766348317256215,
          1.9326687120133683,
          1.757536920319405,
          1.227169492610515,
          1.9190731204135671,
          2.2203874423527714,
          1.9757928276541512,
          3.036083763309733,
          0.9761721134821498,
          3.267900823247425,
          2.725441612094595,
          1.590798238647611,
          2.0187450903425455,
          1.7711258492043953,
          1.2804821226514245,
          2.1098843369728937,
          2.429713527687582,
          3.092199489360332,
          2.1148657340234354,
          1.9192255512709113,
          2.4939031351384093,
          0.6149329200203723,
          1.6817138319046983,
          2.3011370729491962,
          2.2311479213033585,
          3.4815254500366817,
          2.6667271675617243,
          3.305034175310929
         ],
         "z": [
          0.9299678621881141,
          0.2198996183724775,
          -1.325923850959866,
          -0.5972814132175637,
          0.4393056536697805,
          0.9845899255340317,
          -0.6845841447095108,
          0.40470566849952777,
          0.0017087496794410198,
          -0.821909287294996,
          0.0773454860580278,
          0.30987307321125235,
          1.372381664262742,
          0.5878837633124702,
          -0.49477202560316935,
          -0.3749687924422182,
          -0.6923756897501768,
          -0.6678380943691536,
          -0.2820434282984028,
          -0.07617448728964928,
          -0.7854526460527478,
          -0.2361627487376431,
          0.420710373291927,
          0.7075882345489283,
          0.9009920894346626,
          -1.2533539378190035,
          -0.5257589586173211,
          0.4332774561083231,
          -0.9240096389334757,
          -0.1631544202337234,
          1.313925531363295,
          0.4660523690236316,
          -1.2591222718486481,
          -1.5016307395463497,
          0.27091471452979493,
          1.2626421420189171,
          0.7323442290832068,
          -0.6004689372986686
         ]
        }
       ],
       "layout": {
        "legend": {
         "title": {
          "text": "Cultivator"
         },
         "tracegroupgap": 0
        },
        "scene": {
         "domain": {
          "x": [
           0,
           1
          ],
          "y": [
           0,
           1
          ]
         },
         "xaxis": {
          "title": {
           "text": "PC1"
          }
         },
         "yaxis": {
          "title": {
           "text": "PC2"
          }
         },
         "zaxis": {
          "title": {
           "text": "PC3"
          }
         }
        },
        "template": {
         "data": {
          "bar": [
           {
            "error_x": {
             "color": "#2a3f5f"
            },
            "error_y": {
             "color": "#2a3f5f"
            },
            "marker": {
             "line": {
              "color": "#E5ECF6",
              "width": 0.5
             },
             "pattern": {
              "fillmode": "overlay",
              "size": 10,
              "solidity": 0.2
             }
            },
            "type": "bar"
           }
          ],
          "barpolar": [
           {
            "marker": {
             "line": {
              "color": "#E5ECF6",
              "width": 0.5
             },
             "pattern": {
              "fillmode": "overlay",
              "size": 10,
              "solidity": 0.2
             }
            },
            "type": "barpolar"
           }
          ],
          "carpet": [
           {
            "aaxis": {
             "endlinecolor": "#2a3f5f",
             "gridcolor": "white",
             "linecolor": "white",
             "minorgridcolor": "white",
             "startlinecolor": "#2a3f5f"
            },
            "baxis": {
             "endlinecolor": "#2a3f5f",
             "gridcolor": "white",
             "linecolor": "white",
             "minorgridcolor": "white",
             "startlinecolor": "#2a3f5f"
            },
            "type": "carpet"
           }
          ],
          "choropleth": [
           {
            "colorbar": {
             "outlinewidth": 0,
             "ticks": ""
            },
            "type": "choropleth"
           }
          ],
          "contour": [
           {
            "colorbar": {
             "outlinewidth": 0,
             "ticks": ""
            },
            "colorscale": [
             [
              0,
              "#0d0887"
             ],
             [
              0.1111111111111111,
              "#46039f"
             ],
             [
              0.2222222222222222,
              "#7201a8"
             ],
             [
              0.3333333333333333,
              "#9c179e"
             ],
             [
              0.4444444444444444,
              "#bd3786"
             ],
             [
              0.5555555555555556,
              "#d8576b"
             ],
             [
              0.6666666666666666,
              "#ed7953"
             ],
             [
              0.7777777777777778,
              "#fb9f3a"
             ],
             [
              0.8888888888888888,
              "#fdca26"
             ],
             [
              1,
              "#f0f921"
             ]
            ],
            "type": "contour"
           }
          ],
          "contourcarpet": [
           {
            "colorbar": {
             "outlinewidth": 0,
             "ticks": ""
            },
            "type": "contourcarpet"
           }
          ],
          "heatmap": [
           {
            "colorbar": {
             "outlinewidth": 0,
             "ticks": ""
            },
            "colorscale": [
             [
              0,
              "#0d0887"
             ],
             [
              0.1111111111111111,
              "#46039f"
             ],
             [
              0.2222222222222222,
              "#7201a8"
             ],
             [
              0.3333333333333333,
              "#9c179e"
             ],
             [
              0.4444444444444444,
              "#bd3786"
             ],
             [
              0.5555555555555556,
              "#d8576b"
             ],
             [
              0.6666666666666666,
              "#ed7953"
             ],
             [
              0.7777777777777778,
              "#fb9f3a"
             ],
             [
              0.8888888888888888,
              "#fdca26"
             ],
             [
              1,
              "#f0f921"
             ]
            ],
            "type": "heatmap"
           }
          ],
          "heatmapgl": [
           {
            "colorbar": {
             "outlinewidth": 0,
             "ticks": ""
            },
            "colorscale": [
             [
              0,
              "#0d0887"
             ],
             [
              0.1111111111111111,
              "#46039f"
             ],
             [
              0.2222222222222222,
              "#7201a8"
             ],
             [
              0.3333333333333333,
              "#9c179e"
             ],
             [
              0.4444444444444444,
              "#bd3786"
             ],
             [
              0.5555555555555556,
              "#d8576b"
             ],
             [
              0.6666666666666666,
              "#ed7953"
             ],
             [
              0.7777777777777778,
              "#fb9f3a"
             ],
             [
              0.8888888888888888,
              "#fdca26"
             ],
             [
              1,
              "#f0f921"
             ]
            ],
            "type": "heatmapgl"
           }
          ],
          "histogram": [
           {
            "marker": {
             "pattern": {
              "fillmode": "overlay",
              "size": 10,
              "solidity": 0.2
             }
            },
            "type": "histogram"
           }
          ],
          "histogram2d": [
           {
            "colorbar": {
             "outlinewidth": 0,
             "ticks": ""
            },
            "colorscale": [
             [
              0,
              "#0d0887"
             ],
             [
              0.1111111111111111,
              "#46039f"
             ],
             [
              0.2222222222222222,
              "#7201a8"
             ],
             [
              0.3333333333333333,
              "#9c179e"
             ],
             [
              0.4444444444444444,
              "#bd3786"
             ],
             [
              0.5555555555555556,
              "#d8576b"
             ],
             [
              0.6666666666666666,
              "#ed7953"
             ],
             [
              0.7777777777777778,
              "#fb9f3a"
             ],
             [
              0.8888888888888888,
              "#fdca26"
             ],
             [
              1,
              "#f0f921"
             ]
            ],
            "type": "histogram2d"
           }
          ],
          "histogram2dcontour": [
           {
            "colorbar": {
             "outlinewidth": 0,
             "ticks": ""
            },
            "colorscale": [
             [
              0,
              "#0d0887"
             ],
             [
              0.1111111111111111,
              "#46039f"
             ],
             [
              0.2222222222222222,
              "#7201a8"
             ],
             [
              0.3333333333333333,
              "#9c179e"
             ],
             [
              0.4444444444444444,
              "#bd3786"
             ],
             [
              0.5555555555555556,
              "#d8576b"
             ],
             [
              0.6666666666666666,
              "#ed7953"
             ],
             [
              0.7777777777777778,
              "#fb9f3a"
             ],
             [
              0.8888888888888888,
              "#fdca26"
             ],
             [
              1,
              "#f0f921"
             ]
            ],
            "type": "histogram2dcontour"
           }
          ],
          "mesh3d": [
           {
            "colorbar": {
             "outlinewidth": 0,
             "ticks": ""
            },
            "type": "mesh3d"
           }
          ],
          "parcoords": [
           {
            "line": {
             "colorbar": {
              "outlinewidth": 0,
              "ticks": ""
             }
            },
            "type": "parcoords"
           }
          ],
          "pie": [
           {
            "automargin": true,
            "type": "pie"
           }
          ],
          "scatter": [
           {
            "marker": {
             "colorbar": {
              "outlinewidth": 0,
              "ticks": ""
             }
            },
            "type": "scatter"
           }
          ],
          "scatter3d": [
           {
            "line": {
             "colorbar": {
              "outlinewidth": 0,
              "ticks": ""
             }
            },
            "marker": {
             "colorbar": {
              "outlinewidth": 0,
              "ticks": ""
             }
            },
            "type": "scatter3d"
           }
          ],
          "scattercarpet": [
           {
            "marker": {
             "colorbar": {
              "outlinewidth": 0,
              "ticks": ""
             }
            },
            "type": "scattercarpet"
           }
          ],
          "scattergeo": [
           {
            "marker": {
             "colorbar": {
              "outlinewidth": 0,
              "ticks": ""
             }
            },
            "type": "scattergeo"
           }
          ],
          "scattergl": [
           {
            "marker": {
             "colorbar": {
              "outlinewidth": 0,
              "ticks": ""
             }
            },
            "type": "scattergl"
           }
          ],
          "scattermapbox": [
           {
            "marker": {
             "colorbar": {
              "outlinewidth": 0,
              "ticks": ""
             }
            },
            "type": "scattermapbox"
           }
          ],
          "scatterpolar": [
           {
            "marker": {
             "colorbar": {
              "outlinewidth": 0,
              "ticks": ""
             }
            },
            "type": "scatterpolar"
           }
          ],
          "scatterpolargl": [
           {
            "marker": {
             "colorbar": {
              "outlinewidth": 0,
              "ticks": ""
             }
            },
            "type": "scatterpolargl"
           }
          ],
          "scatterternary": [
           {
            "marker": {
             "colorbar": {
              "outlinewidth": 0,
              "ticks": ""
             }
            },
            "type": "scatterternary"
           }
          ],
          "surface": [
           {
            "colorbar": {
             "outlinewidth": 0,
             "ticks": ""
            },
            "colorscale": [
             [
              0,
              "#0d0887"
             ],
             [
              0.1111111111111111,
              "#46039f"
             ],
             [
              0.2222222222222222,
              "#7201a8"
             ],
             [
              0.3333333333333333,
              "#9c179e"
             ],
             [
              0.4444444444444444,
              "#bd3786"
             ],
             [
              0.5555555555555556,
              "#d8576b"
             ],
             [
              0.6666666666666666,
              "#ed7953"
             ],
             [
              0.7777777777777778,
              "#fb9f3a"
             ],
             [
              0.8888888888888888,
              "#fdca26"
             ],
             [
              1,
              "#f0f921"
             ]
            ],
            "type": "surface"
           }
          ],
          "table": [
           {
            "cells": {
             "fill": {
              "color": "#EBF0F8"
             },
             "line": {
              "color": "white"
             }
            },
            "header": {
             "fill": {
              "color": "#C8D4E3"
             },
             "line": {
              "color": "white"
             }
            },
            "type": "table"
           }
          ]
         },
         "layout": {
          "annotationdefaults": {
           "arrowcolor": "#2a3f5f",
           "arrowhead": 0,
           "arrowwidth": 1
          },
          "autotypenumbers": "strict",
          "coloraxis": {
           "colorbar": {
            "outlinewidth": 0,
            "ticks": ""
           }
          },
          "colorscale": {
           "diverging": [
            [
             0,
             "#8e0152"
            ],
            [
             0.1,
             "#c51b7d"
            ],
            [
             0.2,
             "#de77ae"
            ],
            [
             0.3,
             "#f1b6da"
            ],
            [
             0.4,
             "#fde0ef"
            ],
            [
             0.5,
             "#f7f7f7"
            ],
            [
             0.6,
             "#e6f5d0"
            ],
            [
             0.7,
             "#b8e186"
            ],
            [
             0.8,
             "#7fbc41"
            ],
            [
             0.9,
             "#4d9221"
            ],
            [
             1,
             "#276419"
            ]
           ],
           "sequential": [
            [
             0,
             "#0d0887"
            ],
            [
             0.1111111111111111,
             "#46039f"
            ],
            [
             0.2222222222222222,
             "#7201a8"
            ],
            [
             0.3333333333333333,
             "#9c179e"
            ],
            [
             0.4444444444444444,
             "#bd3786"
            ],
            [
             0.5555555555555556,
             "#d8576b"
            ],
            [
             0.6666666666666666,
             "#ed7953"
            ],
            [
             0.7777777777777778,
             "#fb9f3a"
            ],
            [
             0.8888888888888888,
             "#fdca26"
            ],
            [
             1,
             "#f0f921"
            ]
           ],
           "sequentialminus": [
            [
             0,
             "#0d0887"
            ],
            [
             0.1111111111111111,
             "#46039f"
            ],
            [
             0.2222222222222222,
             "#7201a8"
            ],
            [
             0.3333333333333333,
             "#9c179e"
            ],
            [
             0.4444444444444444,
             "#bd3786"
            ],
            [
             0.5555555555555556,
             "#d8576b"
            ],
            [
             0.6666666666666666,
             "#ed7953"
            ],
            [
             0.7777777777777778,
             "#fb9f3a"
            ],
            [
             0.8888888888888888,
             "#fdca26"
            ],
            [
             1,
             "#f0f921"
            ]
           ]
          },
          "colorway": [
           "#636efa",
           "#EF553B",
           "#00cc96",
           "#ab63fa",
           "#FFA15A",
           "#19d3f3",
           "#FF6692",
           "#B6E880",
           "#FF97FF",
           "#FECB52"
          ],
          "font": {
           "color": "#2a3f5f"
          },
          "geo": {
           "bgcolor": "white",
           "lakecolor": "white",
           "landcolor": "#E5ECF6",
           "showlakes": true,
           "showland": true,
           "subunitcolor": "white"
          },
          "hoverlabel": {
           "align": "left"
          },
          "hovermode": "closest",
          "mapbox": {
           "style": "light"
          },
          "paper_bgcolor": "white",
          "plot_bgcolor": "#E5ECF6",
          "polar": {
           "angularaxis": {
            "gridcolor": "white",
            "linecolor": "white",
            "ticks": ""
           },
           "bgcolor": "#E5ECF6",
           "radialaxis": {
            "gridcolor": "white",
            "linecolor": "white",
            "ticks": ""
           }
          },
          "scene": {
           "xaxis": {
            "backgroundcolor": "#E5ECF6",
            "gridcolor": "white",
            "gridwidth": 2,
            "linecolor": "white",
            "showbackground": true,
            "ticks": "",
            "zerolinecolor": "white"
           },
           "yaxis": {
            "backgroundcolor": "#E5ECF6",
            "gridcolor": "white",
            "gridwidth": 2,
            "linecolor": "white",
            "showbackground": true,
            "ticks": "",
            "zerolinecolor": "white"
           },
           "zaxis": {
            "backgroundcolor": "#E5ECF6",
            "gridcolor": "white",
            "gridwidth": 2,
            "linecolor": "white",
            "showbackground": true,
            "ticks": "",
            "zerolinecolor": "white"
           }
          },
          "shapedefaults": {
           "line": {
            "color": "#2a3f5f"
           }
          },
          "ternary": {
           "aaxis": {
            "gridcolor": "white",
            "linecolor": "white",
            "ticks": ""
           },
           "baxis": {
            "gridcolor": "white",
            "linecolor": "white",
            "ticks": ""
           },
           "bgcolor": "#E5ECF6",
           "caxis": {
            "gridcolor": "white",
            "linecolor": "white",
            "ticks": ""
           }
          },
          "title": {
           "x": 0.05
          },
          "xaxis": {
           "automargin": true,
           "gridcolor": "white",
           "linecolor": "white",
           "ticks": "",
           "title": {
            "standoff": 15
           },
           "zerolinecolor": "white",
           "zerolinewidth": 2
          },
          "yaxis": {
           "automargin": true,
           "gridcolor": "white",
           "linecolor": "white",
           "ticks": "",
           "title": {
            "standoff": 15
           },
           "zerolinecolor": "white",
           "zerolinewidth": 2
          }
         }
        },
        "title": {
         "text": "Score Plot"
        }
       }
      }
     },
     "metadata": {},
     "output_type": "display_data"
    }
   ],
   "source": [
    "import plotly.express as px\n",
    "def plot_3d(ann=None):\n",
    "    fig = px.scatter_3d(scores_notcentred, x='PC1', y='PC2', z='PC3',\n",
    "                color=data_cult.cultivator.astype('string'),title='Score Plot')\n",
    "    if ann:\n",
    "        fig.update_layout(\n",
    "            scene=dict(\n",
    "                # xaxis=dict(type=\"date\"),\n",
    "                # yaxis=dict(type=\"category\"),\n",
    "                # zaxis=dict(type=\"log\"),\n",
    "                annotations=[\n",
    "                dict(\n",
    "                    showarrow=False,\n",
    "                    x=-1.67,\n",
    "                    y=0.992,\n",
    "                    z=0.177,\n",
    "                    text=\"Point\",\n",
    "                    xanchor=\"left\",\n",
    "                    xshift=10,\n",
    "                    opacity=1)]\n",
    "            ),\n",
    "        )  \n",
    "    fig.update_layout(\n",
    "    legend_title=\"Cultivator\",\n",
    ")\n",
    "    fig.show()\n",
    "\n",
    "plot_3d()"
   ]
  },
  {
   "cell_type": "markdown",
   "metadata": {},
   "source": [
    "Plot with point "
   ]
  },
  {
   "cell_type": "code",
   "execution_count": 19,
   "metadata": {},
   "outputs": [
    {
     "data": {
      "application/vnd.plotly.v1+json": {
       "config": {
        "plotlyServerURL": "https://plot.ly"
       },
       "data": [
        {
         "hovertemplate": "color=0<br>PC1=%{x}<br>PC2=%{y}<br>PC3=%{z}<extra></extra>",
         "legendgroup": "0",
         "marker": {
          "color": "#636efa",
          "symbol": "circle"
         },
         "mode": "markers",
         "name": "0",
         "scene": "scene",
         "showlegend": true,
         "type": "scatter3d",
         "x": [
          3.073581337139858,
          1.4134774669144046,
          1.7044416815093775,
          3.7759209477322626,
          0.9151506860523809,
          3.1842033926399043,
          2.091809204454456,
          2.6666222939147928,
          2.3088633214631744,
          3.1875723992619758,
          2.0554437715548968,
          1.765109252101981,
          3.404132880699477,
          2.627755799105843,
          3.0845575452999205,
          2.42186786580749,
          2.0611355139302265,
          2.6981173997299805,
          1.6414293249313585,
          0.8991644733475704,
          1.3542418091532578,
          1.4980474233410532,
          1.5401290478153424,
          2.37601521984669,
          3.1047793026723087,
          1.0889233509217702,
          1.7674429663822044,
          1.5025590583927013,
          1.2752280765064925,
          1.1289561275317193,
          1.1138222555634245,
          1.902182658975941,
          2.5797433506914036,
          1.408484750456553,
          2.3106787064322707,
          1.9718510267643763,
          1.98733817621743,
          2.2370067540006007,
          2.787142346059253,
          2.45310754331897,
          2.693571550942409,
          2.629384802224853,
          2.7164888452174485,
          2.0110145571329636,
          3.22803096431343
         ],
         "y": [
          0.428909541420889,
          -0.7809004506575454,
          -0.18496713285133917,
          0.7753415180259995,
          0.22643273710491596,
          0.6247448179686858,
          0.2342212226638206,
          0.6784650851121721,
          -0.2709901009114783,
          0.10538210398815541,
          -0.24129211120715457,
          -0.27252248255227657,
          0.5646614650374877,
          0.5460589952695483,
          0.7617389304416188,
          0.42634883728945916,
          0.11998390739755826,
          0.0377599418819424,
          -0.6620810608296197,
          -0.8900296617405207,
          -0.5170816935130524,
          -0.08109242439949713,
          -0.30060884482513484,
          -0.3365901016922951,
          -0.013333909093759484,
          -0.1536460847686733,
          -0.30178987265656493,
          -0.5886833380159816,
          -0.3804922975609181,
          -0.7561792762836553,
          -1.0972134393543898,
          0.040535991582161285,
          -0.666290645905284,
          -0.6498151595820602,
          -0.4576743081374645,
          0.3696633211504939,
          -0.7131977104182547,
          -0.4811067685251684,
          0.22201571031621353,
          0.7758004605762199,
          -0.06547061514664998,
          -0.01465523314449534,
          0.3672131569278542,
          -0.15349611640015703,
          -0.3980632281711779
         ],
         "z": [
          1.145812133833997,
          -0.09616653301696163,
          -0.09686427001672003,
          -0.3029900920799815,
          1.4967973128176841,
          -0.32798003791126434,
          -1.1598318124240847,
          0.7934769899094676,
          -0.9273573248163199,
          -0.4306416848004167,
          -1.1742606310506292,
          -1.4732113714118016,
          -1.1492967638914218,
          -0.023159565697565946,
          0.4285522465112902,
          0.1568915645723566,
          1.4437362834391694,
          1.3785052033848706,
          -0.12912856418438962,
          -0.2513808259704138,
          -0.8939993256930231,
          0.13285259012737854,
          -0.7825980438298064,
          -0.6823663728434259,
          -0.4712744930396439,
          -0.06186453441941408,
          0.41789467925858237,
          -0.17971140637251,
          0.5218016387691669,
          -0.2893148776998069,
          -0.19671658253714,
          0.8174446908201982,
          -0.2935217124042157,
          0.47370448596509585,
          -0.42271127862171703,
          -0.45918230348077,
          -0.9018231267079968,
          -1.0624431702628554,
          -0.051682204401670095,
          0.12852154187879847,
          0.7576239486028807,
          0.6244760599791476,
          0.5277357348261104,
          -0.325878178283043,
          -0.22950866762756245
         ]
        },
        {
         "hovertemplate": "color=1<br>PC1=%{x}<br>PC2=%{y}<br>PC3=%{z}<extra></extra>",
         "legendgroup": "1",
         "marker": {
          "color": "#EF553B",
          "symbol": "circle"
         },
         "mode": "markers",
         "name": "1",
         "scene": "scene",
         "showlegend": true,
         "type": "scatter3d",
         "x": [
          0.0649145896632288,
          -1.1988376922827513,
          0.05384507997538092,
          -0.8281656525503589,
          -1.3185270549667265,
          -0.23914439857709574,
          -1.3137754144493403,
          -0.9794392881683649,
          -1.2323520681341182,
          0.01122803141004854,
          -1.600020198866453,
          -2.0802527647709406,
          -0.3655151201562494,
          -0.31206920649029335,
          -1.494234162980389,
          -1.6559939875934835,
          -1.9046088568561563,
          -2.022119580053391,
          -2.294950348219557,
          -2.0882865764305514,
          -2.087468321899256,
          -1.2617509155207076,
          -0.645713223479035,
          -0.8105290809355794,
          -1.4765996253023013,
          -0.2150330292906817,
          -0.8527639753410307,
          -0.8856042966808009,
          -1.8121765598424642,
          -0.7242098284926113,
          -1.3638486322736532,
          -1.5117214946286472,
          -1.3131732678347077,
          -0.2850024707913458,
          -0.5660525869693578,
          -1.0409146064305776,
          -1.6056350861723199,
          -1.6414345027714912,
          -1.5702671907655086,
          -1.4290711504026703,
          -0.5469573348833612,
          -2.2025344148701307,
          -1.8712489355824622,
          -0.7104015954983725,
          -1.3707829292311902,
          -0.8104531776189953,
          -1.9829656822682298,
          -1.2992891637267543
         ],
         "y": [
          -2.2585676273512725,
          -1.0511991480476526,
          -1.2097160555222974,
          -1.6866944571587836,
          -1.1996052067090643,
          -1.5283159348206832,
          -0.2622986656163512,
          -0.09589880055925772,
          -2.4758817350137416,
          -1.4101050478603019,
          -1.9021274495690408,
          1.193322890995947,
          -2.3843174423728106,
          -1.6842008694201278,
          -1.349682975026204,
          -1.578568795204644,
          -1.1814058418104565,
          -2.02245135978595,
          -1.146902307939763,
          -0.9149299114164817,
          -0.6860402244144502,
          -1.5936251733348623,
          -2.043213169569192,
          -2.0842571455603367,
          -1.0666214995286454,
          -1.3778280094152842,
          -1.5613035075801138,
          -1.0455635718847127,
          -1.8015335426561971,
          -1.4280912372315908,
          -1.4869453454063888,
          -0.8176113781094685,
          -1.6876633158590386,
          -2.374260341881153,
          -1.0222135104393706,
          -1.68966190312481,
          -0.033004210877247316,
          -2.1609053114633565,
          -1.7575306350601931,
          -2.1005416583466823,
          -1.444776548661469,
          -0.018006237110005176,
          -1.0077025214670574,
          -1.6333767063843037,
          -1.705424942857831,
          -1.673660559441872,
          -0.8851826413077247,
          -1.7898525209848082
         ],
         "z": [
          -0.3200814261999005,
          0.9271621486496723,
          0.037317059693299647,
          -1.156090196955686,
          0.7480062080583209,
          -0.8322421870086468,
          2.024561965799828,
          1.3467259349409297,
          -0.1219625951202342,
          -0.554373188962606,
          -0.997529978654064,
          -0.4448237588430449,
          0.31685175436580787,
          0.3628124097312038,
          -0.000924793662500801,
          0.04754161840009643,
          -0.2864312929349658,
          -1.4403556014481438,
          -0.6002927538419561,
          -0.44699532211346726,
          -1.1727353322794627,
          0.6289331962105063,
          1.2129906682612743,
          -0.281803510164184,
          0.4579790077266025,
          0.6096541988022256,
          -0.3217272519263339,
          0.8742715824069809,
          0.06807493337869142,
          -0.5087288757132675,
          -0.7309169395390677,
          -0.7405286830326754,
          0.16955062163942866,
          0.45134594033087844,
          2.305179068505706,
          0.3838618727505903,
          0.9977864166810073,
          -0.13517534130062422,
          -0.40005741747249496,
          0.010666727010715592,
          1.40477028886152,
          -0.3645985649006308,
          0.6243151932258332,
          0.9364969039208166,
          0.03520021795576603,
          -0.3769357217891824,
          0.2795467284767379,
          0.005623627710921895
         ]
        },
        {
         "hovertemplate": "color=2<br>PC1=%{x}<br>PC2=%{y}<br>PC3=%{z}<extra></extra>",
         "legendgroup": "2",
         "marker": {
          "color": "#00cc96",
          "symbol": "circle"
         },
         "mode": "markers",
         "name": "2",
         "scene": "scene",
         "showlegend": true,
         "type": "scatter3d",
         "x": [
          -0.20513401356560487,
          -0.38645913430751444,
          -1.9501667349870873,
          -1.7060344175389643,
          -2.5142823076945198,
          -2.7969451776549032,
          -1.8969364148587025,
          -1.4930098286578106,
          -1.6396087411855758,
          -0.7059020322439041,
          -1.4147639401796184,
          -1.6320029744059636,
          -0.05008630334694271,
          -0.8097758364861778,
          -2.0635912463012267,
          -1.8266750757500356,
          -0.8860882484729414,
          -1.0228641872952853,
          -0.9158500686850115,
          -1.8457545663682724,
          -1.189963878707663,
          -2.0085170733598163,
          -0.6063017329599082,
          -1.5895411760242706,
          -0.7256941740205974,
          -0.4761110670745791,
          -1.7567098741443048,
          0.12828574003789284,
          -0.9762973081612106,
          0.2393089115817965,
          0.20827547810611102,
          -1.7052827761799785,
          -1.5653034424844343,
          -0.20231141848176268,
          -0.5185269014360598,
          0.30172616514590767,
          0.19970726290981602,
          -0.9494309632253335
         ],
         "y": [
          0.3207120856073312,
          0.06214840515405514,
          0.2335885760238419,
          1.5277666660749012,
          1.35977697813311,
          2.4468958614726946,
          1.8982244951726883,
          1.1671227847184442,
          0.9998065388540831,
          0.8158647695354786,
          1.2766348317256215,
          1.9326687120133683,
          1.757536920319405,
          1.227169492610515,
          1.9190731204135671,
          2.2203874423527714,
          1.9757928276541512,
          3.036083763309733,
          0.9761721134821498,
          3.267900823247425,
          2.725441612094595,
          1.590798238647611,
          2.0187450903425455,
          1.7711258492043953,
          1.2804821226514245,
          2.1098843369728937,
          2.429713527687582,
          3.092199489360332,
          2.1148657340234354,
          1.9192255512709113,
          2.4939031351384093,
          0.6149329200203723,
          1.6817138319046983,
          2.3011370729491962,
          2.2311479213033585,
          3.4815254500366817,
          2.6667271675617243,
          3.305034175310929
         ],
         "z": [
          0.9299678621881141,
          0.2198996183724775,
          -1.325923850959866,
          -0.5972814132175637,
          0.4393056536697805,
          0.9845899255340317,
          -0.6845841447095108,
          0.40470566849952777,
          0.0017087496794410198,
          -0.821909287294996,
          0.0773454860580278,
          0.30987307321125235,
          1.372381664262742,
          0.5878837633124702,
          -0.49477202560316935,
          -0.3749687924422182,
          -0.6923756897501768,
          -0.6678380943691536,
          -0.2820434282984028,
          -0.07617448728964928,
          -0.7854526460527478,
          -0.2361627487376431,
          0.420710373291927,
          0.7075882345489283,
          0.9009920894346626,
          -1.2533539378190035,
          -0.5257589586173211,
          0.4332774561083231,
          -0.9240096389334757,
          -0.1631544202337234,
          1.313925531363295,
          0.4660523690236316,
          -1.2591222718486481,
          -1.5016307395463497,
          0.27091471452979493,
          1.2626421420189171,
          0.7323442290832068,
          -0.6004689372986686
         ]
        }
       ],
       "layout": {
        "legend": {
         "title": {
          "text": "Cultivator"
         },
         "tracegroupgap": 0
        },
        "scene": {
         "annotations": [
          {
           "opacity": 1,
           "showarrow": false,
           "text": "Point",
           "x": -1.67,
           "xanchor": "left",
           "xshift": 10,
           "y": 0.992,
           "z": 0.177
          }
         ],
         "domain": {
          "x": [
           0,
           1
          ],
          "y": [
           0,
           1
          ]
         },
         "xaxis": {
          "title": {
           "text": "PC1"
          }
         },
         "yaxis": {
          "title": {
           "text": "PC2"
          }
         },
         "zaxis": {
          "title": {
           "text": "PC3"
          }
         }
        },
        "template": {
         "data": {
          "bar": [
           {
            "error_x": {
             "color": "#2a3f5f"
            },
            "error_y": {
             "color": "#2a3f5f"
            },
            "marker": {
             "line": {
              "color": "#E5ECF6",
              "width": 0.5
             },
             "pattern": {
              "fillmode": "overlay",
              "size": 10,
              "solidity": 0.2
             }
            },
            "type": "bar"
           }
          ],
          "barpolar": [
           {
            "marker": {
             "line": {
              "color": "#E5ECF6",
              "width": 0.5
             },
             "pattern": {
              "fillmode": "overlay",
              "size": 10,
              "solidity": 0.2
             }
            },
            "type": "barpolar"
           }
          ],
          "carpet": [
           {
            "aaxis": {
             "endlinecolor": "#2a3f5f",
             "gridcolor": "white",
             "linecolor": "white",
             "minorgridcolor": "white",
             "startlinecolor": "#2a3f5f"
            },
            "baxis": {
             "endlinecolor": "#2a3f5f",
             "gridcolor": "white",
             "linecolor": "white",
             "minorgridcolor": "white",
             "startlinecolor": "#2a3f5f"
            },
            "type": "carpet"
           }
          ],
          "choropleth": [
           {
            "colorbar": {
             "outlinewidth": 0,
             "ticks": ""
            },
            "type": "choropleth"
           }
          ],
          "contour": [
           {
            "colorbar": {
             "outlinewidth": 0,
             "ticks": ""
            },
            "colorscale": [
             [
              0,
              "#0d0887"
             ],
             [
              0.1111111111111111,
              "#46039f"
             ],
             [
              0.2222222222222222,
              "#7201a8"
             ],
             [
              0.3333333333333333,
              "#9c179e"
             ],
             [
              0.4444444444444444,
              "#bd3786"
             ],
             [
              0.5555555555555556,
              "#d8576b"
             ],
             [
              0.6666666666666666,
              "#ed7953"
             ],
             [
              0.7777777777777778,
              "#fb9f3a"
             ],
             [
              0.8888888888888888,
              "#fdca26"
             ],
             [
              1,
              "#f0f921"
             ]
            ],
            "type": "contour"
           }
          ],
          "contourcarpet": [
           {
            "colorbar": {
             "outlinewidth": 0,
             "ticks": ""
            },
            "type": "contourcarpet"
           }
          ],
          "heatmap": [
           {
            "colorbar": {
             "outlinewidth": 0,
             "ticks": ""
            },
            "colorscale": [
             [
              0,
              "#0d0887"
             ],
             [
              0.1111111111111111,
              "#46039f"
             ],
             [
              0.2222222222222222,
              "#7201a8"
             ],
             [
              0.3333333333333333,
              "#9c179e"
             ],
             [
              0.4444444444444444,
              "#bd3786"
             ],
             [
              0.5555555555555556,
              "#d8576b"
             ],
             [
              0.6666666666666666,
              "#ed7953"
             ],
             [
              0.7777777777777778,
              "#fb9f3a"
             ],
             [
              0.8888888888888888,
              "#fdca26"
             ],
             [
              1,
              "#f0f921"
             ]
            ],
            "type": "heatmap"
           }
          ],
          "heatmapgl": [
           {
            "colorbar": {
             "outlinewidth": 0,
             "ticks": ""
            },
            "colorscale": [
             [
              0,
              "#0d0887"
             ],
             [
              0.1111111111111111,
              "#46039f"
             ],
             [
              0.2222222222222222,
              "#7201a8"
             ],
             [
              0.3333333333333333,
              "#9c179e"
             ],
             [
              0.4444444444444444,
              "#bd3786"
             ],
             [
              0.5555555555555556,
              "#d8576b"
             ],
             [
              0.6666666666666666,
              "#ed7953"
             ],
             [
              0.7777777777777778,
              "#fb9f3a"
             ],
             [
              0.8888888888888888,
              "#fdca26"
             ],
             [
              1,
              "#f0f921"
             ]
            ],
            "type": "heatmapgl"
           }
          ],
          "histogram": [
           {
            "marker": {
             "pattern": {
              "fillmode": "overlay",
              "size": 10,
              "solidity": 0.2
             }
            },
            "type": "histogram"
           }
          ],
          "histogram2d": [
           {
            "colorbar": {
             "outlinewidth": 0,
             "ticks": ""
            },
            "colorscale": [
             [
              0,
              "#0d0887"
             ],
             [
              0.1111111111111111,
              "#46039f"
             ],
             [
              0.2222222222222222,
              "#7201a8"
             ],
             [
              0.3333333333333333,
              "#9c179e"
             ],
             [
              0.4444444444444444,
              "#bd3786"
             ],
             [
              0.5555555555555556,
              "#d8576b"
             ],
             [
              0.6666666666666666,
              "#ed7953"
             ],
             [
              0.7777777777777778,
              "#fb9f3a"
             ],
             [
              0.8888888888888888,
              "#fdca26"
             ],
             [
              1,
              "#f0f921"
             ]
            ],
            "type": "histogram2d"
           }
          ],
          "histogram2dcontour": [
           {
            "colorbar": {
             "outlinewidth": 0,
             "ticks": ""
            },
            "colorscale": [
             [
              0,
              "#0d0887"
             ],
             [
              0.1111111111111111,
              "#46039f"
             ],
             [
              0.2222222222222222,
              "#7201a8"
             ],
             [
              0.3333333333333333,
              "#9c179e"
             ],
             [
              0.4444444444444444,
              "#bd3786"
             ],
             [
              0.5555555555555556,
              "#d8576b"
             ],
             [
              0.6666666666666666,
              "#ed7953"
             ],
             [
              0.7777777777777778,
              "#fb9f3a"
             ],
             [
              0.8888888888888888,
              "#fdca26"
             ],
             [
              1,
              "#f0f921"
             ]
            ],
            "type": "histogram2dcontour"
           }
          ],
          "mesh3d": [
           {
            "colorbar": {
             "outlinewidth": 0,
             "ticks": ""
            },
            "type": "mesh3d"
           }
          ],
          "parcoords": [
           {
            "line": {
             "colorbar": {
              "outlinewidth": 0,
              "ticks": ""
             }
            },
            "type": "parcoords"
           }
          ],
          "pie": [
           {
            "automargin": true,
            "type": "pie"
           }
          ],
          "scatter": [
           {
            "marker": {
             "colorbar": {
              "outlinewidth": 0,
              "ticks": ""
             }
            },
            "type": "scatter"
           }
          ],
          "scatter3d": [
           {
            "line": {
             "colorbar": {
              "outlinewidth": 0,
              "ticks": ""
             }
            },
            "marker": {
             "colorbar": {
              "outlinewidth": 0,
              "ticks": ""
             }
            },
            "type": "scatter3d"
           }
          ],
          "scattercarpet": [
           {
            "marker": {
             "colorbar": {
              "outlinewidth": 0,
              "ticks": ""
             }
            },
            "type": "scattercarpet"
           }
          ],
          "scattergeo": [
           {
            "marker": {
             "colorbar": {
              "outlinewidth": 0,
              "ticks": ""
             }
            },
            "type": "scattergeo"
           }
          ],
          "scattergl": [
           {
            "marker": {
             "colorbar": {
              "outlinewidth": 0,
              "ticks": ""
             }
            },
            "type": "scattergl"
           }
          ],
          "scattermapbox": [
           {
            "marker": {
             "colorbar": {
              "outlinewidth": 0,
              "ticks": ""
             }
            },
            "type": "scattermapbox"
           }
          ],
          "scatterpolar": [
           {
            "marker": {
             "colorbar": {
              "outlinewidth": 0,
              "ticks": ""
             }
            },
            "type": "scatterpolar"
           }
          ],
          "scatterpolargl": [
           {
            "marker": {
             "colorbar": {
              "outlinewidth": 0,
              "ticks": ""
             }
            },
            "type": "scatterpolargl"
           }
          ],
          "scatterternary": [
           {
            "marker": {
             "colorbar": {
              "outlinewidth": 0,
              "ticks": ""
             }
            },
            "type": "scatterternary"
           }
          ],
          "surface": [
           {
            "colorbar": {
             "outlinewidth": 0,
             "ticks": ""
            },
            "colorscale": [
             [
              0,
              "#0d0887"
             ],
             [
              0.1111111111111111,
              "#46039f"
             ],
             [
              0.2222222222222222,
              "#7201a8"
             ],
             [
              0.3333333333333333,
              "#9c179e"
             ],
             [
              0.4444444444444444,
              "#bd3786"
             ],
             [
              0.5555555555555556,
              "#d8576b"
             ],
             [
              0.6666666666666666,
              "#ed7953"
             ],
             [
              0.7777777777777778,
              "#fb9f3a"
             ],
             [
              0.8888888888888888,
              "#fdca26"
             ],
             [
              1,
              "#f0f921"
             ]
            ],
            "type": "surface"
           }
          ],
          "table": [
           {
            "cells": {
             "fill": {
              "color": "#EBF0F8"
             },
             "line": {
              "color": "white"
             }
            },
            "header": {
             "fill": {
              "color": "#C8D4E3"
             },
             "line": {
              "color": "white"
             }
            },
            "type": "table"
           }
          ]
         },
         "layout": {
          "annotationdefaults": {
           "arrowcolor": "#2a3f5f",
           "arrowhead": 0,
           "arrowwidth": 1
          },
          "autotypenumbers": "strict",
          "coloraxis": {
           "colorbar": {
            "outlinewidth": 0,
            "ticks": ""
           }
          },
          "colorscale": {
           "diverging": [
            [
             0,
             "#8e0152"
            ],
            [
             0.1,
             "#c51b7d"
            ],
            [
             0.2,
             "#de77ae"
            ],
            [
             0.3,
             "#f1b6da"
            ],
            [
             0.4,
             "#fde0ef"
            ],
            [
             0.5,
             "#f7f7f7"
            ],
            [
             0.6,
             "#e6f5d0"
            ],
            [
             0.7,
             "#b8e186"
            ],
            [
             0.8,
             "#7fbc41"
            ],
            [
             0.9,
             "#4d9221"
            ],
            [
             1,
             "#276419"
            ]
           ],
           "sequential": [
            [
             0,
             "#0d0887"
            ],
            [
             0.1111111111111111,
             "#46039f"
            ],
            [
             0.2222222222222222,
             "#7201a8"
            ],
            [
             0.3333333333333333,
             "#9c179e"
            ],
            [
             0.4444444444444444,
             "#bd3786"
            ],
            [
             0.5555555555555556,
             "#d8576b"
            ],
            [
             0.6666666666666666,
             "#ed7953"
            ],
            [
             0.7777777777777778,
             "#fb9f3a"
            ],
            [
             0.8888888888888888,
             "#fdca26"
            ],
            [
             1,
             "#f0f921"
            ]
           ],
           "sequentialminus": [
            [
             0,
             "#0d0887"
            ],
            [
             0.1111111111111111,
             "#46039f"
            ],
            [
             0.2222222222222222,
             "#7201a8"
            ],
            [
             0.3333333333333333,
             "#9c179e"
            ],
            [
             0.4444444444444444,
             "#bd3786"
            ],
            [
             0.5555555555555556,
             "#d8576b"
            ],
            [
             0.6666666666666666,
             "#ed7953"
            ],
            [
             0.7777777777777778,
             "#fb9f3a"
            ],
            [
             0.8888888888888888,
             "#fdca26"
            ],
            [
             1,
             "#f0f921"
            ]
           ]
          },
          "colorway": [
           "#636efa",
           "#EF553B",
           "#00cc96",
           "#ab63fa",
           "#FFA15A",
           "#19d3f3",
           "#FF6692",
           "#B6E880",
           "#FF97FF",
           "#FECB52"
          ],
          "font": {
           "color": "#2a3f5f"
          },
          "geo": {
           "bgcolor": "white",
           "lakecolor": "white",
           "landcolor": "#E5ECF6",
           "showlakes": true,
           "showland": true,
           "subunitcolor": "white"
          },
          "hoverlabel": {
           "align": "left"
          },
          "hovermode": "closest",
          "mapbox": {
           "style": "light"
          },
          "paper_bgcolor": "white",
          "plot_bgcolor": "#E5ECF6",
          "polar": {
           "angularaxis": {
            "gridcolor": "white",
            "linecolor": "white",
            "ticks": ""
           },
           "bgcolor": "#E5ECF6",
           "radialaxis": {
            "gridcolor": "white",
            "linecolor": "white",
            "ticks": ""
           }
          },
          "scene": {
           "xaxis": {
            "backgroundcolor": "#E5ECF6",
            "gridcolor": "white",
            "gridwidth": 2,
            "linecolor": "white",
            "showbackground": true,
            "ticks": "",
            "zerolinecolor": "white"
           },
           "yaxis": {
            "backgroundcolor": "#E5ECF6",
            "gridcolor": "white",
            "gridwidth": 2,
            "linecolor": "white",
            "showbackground": true,
            "ticks": "",
            "zerolinecolor": "white"
           },
           "zaxis": {
            "backgroundcolor": "#E5ECF6",
            "gridcolor": "white",
            "gridwidth": 2,
            "linecolor": "white",
            "showbackground": true,
            "ticks": "",
            "zerolinecolor": "white"
           }
          },
          "shapedefaults": {
           "line": {
            "color": "#2a3f5f"
           }
          },
          "ternary": {
           "aaxis": {
            "gridcolor": "white",
            "linecolor": "white",
            "ticks": ""
           },
           "baxis": {
            "gridcolor": "white",
            "linecolor": "white",
            "ticks": ""
           },
           "bgcolor": "#E5ECF6",
           "caxis": {
            "gridcolor": "white",
            "linecolor": "white",
            "ticks": ""
           }
          },
          "title": {
           "x": 0.05
          },
          "xaxis": {
           "automargin": true,
           "gridcolor": "white",
           "linecolor": "white",
           "ticks": "",
           "title": {
            "standoff": 15
           },
           "zerolinecolor": "white",
           "zerolinewidth": 2
          },
          "yaxis": {
           "automargin": true,
           "gridcolor": "white",
           "linecolor": "white",
           "ticks": "",
           "title": {
            "standoff": 15
           },
           "zerolinecolor": "white",
           "zerolinewidth": 2
          }
         }
        },
        "title": {
         "text": "Score Plot"
        }
       }
      }
     },
     "metadata": {},
     "output_type": "display_data"
    }
   ],
   "source": [
    "plot_3d(True)"
   ]
  },
  {
   "cell_type": "markdown",
   "metadata": {},
   "source": [
    "# D)"
   ]
  },
  {
   "cell_type": "code",
   "execution_count": 20,
   "metadata": {},
   "outputs": [],
   "source": [
    "# Plots score plot with data labels\n",
    "# Pass original data, un-centred scores and returns of PCA to this function. Optional width, height and margin.\n",
    "# This function returns the axes of the score plot\n",
    "\n",
    "def scoreplot_label(data, scores, pca, width=15, height=8, margin=0.5,text = None):\n",
    "    plt.figure(figsize=(width, height))\n",
    "    sns.set_style('darkgrid')\n",
    "    ax = sns.scatterplot(x=\"PC1\", y=\"PC2\", data = scores,hue=data.cultivator)\n",
    "    \n",
    "    #Set limits for figure\n",
    "    x_min = min(scores['PC1'].min(),0)-margin\n",
    "    x_max = max(scores['PC1'].max(),0)+margin\n",
    "    y_min = min(scores['PC2'].min(),0)-margin\n",
    "    y_max = max(scores['PC2'].max(),0)+margin\n",
    "        \n",
    "    text_pos = 30\n",
    "\n",
    "\n",
    "    # Print text\n",
    "    if text:\n",
    "        ax.text(-1.6692325,0.9924264,'Here', color='black', ha='center', va='center', fontsize=12)\n",
    "    # for i, v in enumerate(np.array(scores)):\n",
    "    #     ax.text(v[0], v[1]+text_pos, data.iloc[i,0], color='black', ha='center', va='center', fontsize=12)\n",
    "\n",
    "    ax.set_xlim(x_min, x_max)\n",
    "    ax.set_ylim(y_min, y_max)\n",
    "    ax.set_title(\"Score plot\", fontsize=14)\n",
    "    plt.plot([x_min, x_max], [0, 0], color='k', linestyle='--', linewidth=1)\n",
    "    plt.plot([0, 0], [y_min, y_max], color='k', linestyle='--', linewidth=1)\n",
    "    return ax"
   ]
  },
  {
   "cell_type": "code",
   "execution_count": 21,
   "metadata": {},
   "outputs": [
    {
     "data": {
      "text/plain": [
       "array([[-1.6692325,  0.9924264]])"
      ]
     },
     "execution_count": 21,
     "metadata": {},
     "output_type": "execute_result"
    }
   ],
   "source": [
    "np.array([[-0.313,0.76, -0.147, -1.37, 1.28 , -0.236 , -0.365]]) @ np.round(pca2.components_[:2].T , 4)"
   ]
  },
  {
   "cell_type": "code",
   "execution_count": 22,
   "metadata": {},
   "outputs": [
    {
     "data": {
      "image/png": "[encoded data removed]",
      "text/plain": [
       "<Figure size 1080x576 with 1 Axes>"
      ]
     },
     "metadata": {
      "needs_background": "light"
     },
     "output_type": "display_data"
    }
   ],
   "source": [
    "scoreplot_label(data_cult,scores_notcentred, pca2,text=True)\n",
    "plt.show()"
   ]
  },
  {
   "cell_type": "code",
   "execution_count": 23,
   "metadata": {},
   "outputs": [],
   "source": [
    "concatted = pd.concat((data_cult[['cultivator']] , pd.DataFrame(scores2 , columns = ['PC1', 'PC2' , 'PC3'])) , axis = 1 )"
   ]
  },
  {
   "cell_type": "code",
   "execution_count": 24,
   "metadata": {},
   "outputs": [],
   "source": [
    "concatted2 = concatted.melt(id_vars='cultivator', var_name='pc')"
   ]
  },
  {
   "cell_type": "code",
   "execution_count": 25,
   "metadata": {},
   "outputs": [
    {
     "data": {
      "image/png": "[encoded data removed]",
      "text/plain": [
       "<Figure size 432x288 with 1 Axes>"
      ]
     },
     "metadata": {},
     "output_type": "display_data"
    }
   ],
   "source": [
    "sns.stripplot(data=concatted2[concatted2['pc'] == 'PC3'],x='pc', y='value',hue='cultivator')\n",
    "plt.show()"
   ]
  },
  {
   "cell_type": "code",
   "execution_count": 26,
   "metadata": {},
   "outputs": [
    {
     "data": {
      "application/vnd.plotly.v1+json": {
       "config": {
        "plotlyServerURL": "https://plot.ly"
       },
       "data": [
        {
         "hovertemplate": "color=0<br>PC1=%{x}<br>PC2=%{y}<br>PC3=%{z}<extra></extra>",
         "legendgroup": "0",
         "marker": {
          "color": "#636efa",
          "symbol": "circle"
         },
         "mode": "markers",
         "name": "0",
         "scene": "scene",
         "showlegend": true,
         "type": "scatter3d",
         "x": [
          3.073581337139858,
          1.4134774669144046,
          1.7044416815093775,
          3.7759209477322626,
          0.9151506860523809,
          3.1842033926399043,
          2.091809204454456,
          2.6666222939147928,
          2.3088633214631744,
          3.1875723992619758,
          2.0554437715548968,
          1.765109252101981,
          3.404132880699477,
          2.627755799105843,
          3.0845575452999205,
          2.42186786580749,
          2.0611355139302265,
          2.6981173997299805,
          1.6414293249313585,
          0.8991644733475704,
          1.3542418091532578,
          1.4980474233410532,
          1.5401290478153424,
          2.37601521984669,
          3.1047793026723087,
          1.0889233509217702,
          1.7674429663822044,
          1.5025590583927013,
          1.2752280765064925,
          1.1289561275317193,
          1.1138222555634245,
          1.902182658975941,
          2.5797433506914036,
          1.408484750456553,
          2.3106787064322707,
          1.9718510267643763,
          1.98733817621743,
          2.2370067540006007,
          2.787142346059253,
          2.45310754331897,
          2.693571550942409,
          2.629384802224853,
          2.7164888452174485,
          2.0110145571329636,
          3.22803096431343
         ],
         "y": [
          0.428909541420889,
          -0.7809004506575454,
          -0.18496713285133917,
          0.7753415180259995,
          0.22643273710491596,
          0.6247448179686858,
          0.2342212226638206,
          0.6784650851121721,
          -0.2709901009114783,
          0.10538210398815541,
          -0.24129211120715457,
          -0.27252248255227657,
          0.5646614650374877,
          0.5460589952695483,
          0.7617389304416188,
          0.42634883728945916,
          0.11998390739755826,
          0.0377599418819424,
          -0.6620810608296197,
          -0.8900296617405207,
          -0.5170816935130524,
          -0.08109242439949713,
          -0.30060884482513484,
          -0.3365901016922951,
          -0.013333909093759484,
          -0.1536460847686733,
          -0.30178987265656493,
          -0.5886833380159816,
          -0.3804922975609181,
          -0.7561792762836553,
          -1.0972134393543898,
          0.040535991582161285,
          -0.666290645905284,
          -0.6498151595820602,
          -0.4576743081374645,
          0.3696633211504939,
          -0.7131977104182547,
          -0.4811067685251684,
          0.22201571031621353,
          0.7758004605762199,
          -0.06547061514664998,
          -0.01465523314449534,
          0.3672131569278542,
          -0.15349611640015703,
          -0.3980632281711779
         ],
         "z": [
          1.145812133833997,
          -0.09616653301696163,
          -0.09686427001672003,
          -0.3029900920799815,
          1.4967973128176841,
          -0.32798003791126434,
          -1.1598318124240847,
          0.7934769899094676,
          -0.9273573248163199,
          -0.4306416848004167,
          -1.1742606310506292,
          -1.4732113714118016,
          -1.1492967638914218,
          -0.023159565697565946,
          0.4285522465112902,
          0.1568915645723566,
          1.4437362834391694,
          1.3785052033848706,
          -0.12912856418438962,
          -0.2513808259704138,
          -0.8939993256930231,
          0.13285259012737854,
          -0.7825980438298064,
          -0.6823663728434259,
          -0.4712744930396439,
          -0.06186453441941408,
          0.41789467925858237,
          -0.17971140637251,
          0.5218016387691669,
          -0.2893148776998069,
          -0.19671658253714,
          0.8174446908201982,
          -0.2935217124042157,
          0.47370448596509585,
          -0.42271127862171703,
          -0.45918230348077,
          -0.9018231267079968,
          -1.0624431702628554,
          -0.051682204401670095,
          0.12852154187879847,
          0.7576239486028807,
          0.6244760599791476,
          0.5277357348261104,
          -0.325878178283043,
          -0.22950866762756245
         ]
        },
        {
         "hovertemplate": "color=1<br>PC1=%{x}<br>PC2=%{y}<br>PC3=%{z}<extra></extra>",
         "legendgroup": "1",
         "marker": {
          "color": "#EF553B",
          "symbol": "circle"
         },
         "mode": "markers",
         "name": "1",
         "scene": "scene",
         "showlegend": true,
         "type": "scatter3d",
         "x": [
          0.0649145896632288,
          -1.1988376922827513,
          0.05384507997538092,
          -0.8281656525503589,
          -1.3185270549667265,
          -0.23914439857709574,
          -1.3137754144493403,
          -0.9794392881683649,
          -1.2323520681341182,
          0.01122803141004854,
          -1.600020198866453,
          -2.0802527647709406,
          -0.3655151201562494,
          -0.31206920649029335,
          -1.494234162980389,
          -1.6559939875934835,
          -1.9046088568561563,
          -2.022119580053391,
          -2.294950348219557,
          -2.0882865764305514,
          -2.087468321899256,
          -1.2617509155207076,
          -0.645713223479035,
          -0.8105290809355794,
          -1.4765996253023013,
          -0.2150330292906817,
          -0.8527639753410307,
          -0.8856042966808009,
          -1.8121765598424642,
          -0.7242098284926113,
          -1.3638486322736532,
          -1.5117214946286472,
          -1.3131732678347077,
          -0.2850024707913458,
          -0.5660525869693578,
          -1.0409146064305776,
          -1.6056350861723199,
          -1.6414345027714912,
          -1.5702671907655086,
          -1.4290711504026703,
          -0.5469573348833612,
          -2.2025344148701307,
          -1.8712489355824622,
          -0.7104015954983725,
          -1.3707829292311902,
          -0.8104531776189953,
          -1.9829656822682298,
          -1.2992891637267543
         ],
         "y": [
          -2.2585676273512725,
          -1.0511991480476526,
          -1.2097160555222974,
          -1.6866944571587836,
          -1.1996052067090643,
          -1.5283159348206832,
          -0.2622986656163512,
          -0.09589880055925772,
          -2.4758817350137416,
          -1.4101050478603019,
          -1.9021274495690408,
          1.193322890995947,
          -2.3843174423728106,
          -1.6842008694201278,
          -1.349682975026204,
          -1.578568795204644,
          -1.1814058418104565,
          -2.02245135978595,
          -1.146902307939763,
          -0.9149299114164817,
          -0.6860402244144502,
          -1.5936251733348623,
          -2.043213169569192,
          -2.0842571455603367,
          -1.0666214995286454,
          -1.3778280094152842,
          -1.5613035075801138,
          -1.0455635718847127,
          -1.8015335426561971,
          -1.4280912372315908,
          -1.4869453454063888,
          -0.8176113781094685,
          -1.6876633158590386,
          -2.374260341881153,
          -1.0222135104393706,
          -1.68966190312481,
          -0.033004210877247316,
          -2.1609053114633565,
          -1.7575306350601931,
          -2.1005416583466823,
          -1.444776548661469,
          -0.018006237110005176,
          -1.0077025214670574,
          -1.6333767063843037,
          -1.705424942857831,
          -1.673660559441872,
          -0.8851826413077247,
          -1.7898525209848082
         ],
         "z": [
          -0.3200814261999005,
          0.9271621486496723,
          0.037317059693299647,
          -1.156090196955686,
          0.7480062080583209,
          -0.8322421870086468,
          2.024561965799828,
          1.3467259349409297,
          -0.1219625951202342,
          -0.554373188962606,
          -0.997529978654064,
          -0.4448237588430449,
          0.31685175436580787,
          0.3628124097312038,
          -0.000924793662500801,
          0.04754161840009643,
          -0.2864312929349658,
          -1.4403556014481438,
          -0.6002927538419561,
          -0.44699532211346726,
          -1.1727353322794627,
          0.6289331962105063,
          1.2129906682612743,
          -0.281803510164184,
          0.4579790077266025,
          0.6096541988022256,
          -0.3217272519263339,
          0.8742715824069809,
          0.06807493337869142,
          -0.5087288757132675,
          -0.7309169395390677,
          -0.7405286830326754,
          0.16955062163942866,
          0.45134594033087844,
          2.305179068505706,
          0.3838618727505903,
          0.9977864166810073,
          -0.13517534130062422,
          -0.40005741747249496,
          0.010666727010715592,
          1.40477028886152,
          -0.3645985649006308,
          0.6243151932258332,
          0.9364969039208166,
          0.03520021795576603,
          -0.3769357217891824,
          0.2795467284767379,
          0.005623627710921895
         ]
        },
        {
         "hovertemplate": "color=2<br>PC1=%{x}<br>PC2=%{y}<br>PC3=%{z}<extra></extra>",
         "legendgroup": "2",
         "marker": {
          "color": "#00cc96",
          "symbol": "circle"
         },
         "mode": "markers",
         "name": "2",
         "scene": "scene",
         "showlegend": true,
         "type": "scatter3d",
         "x": [
          -0.20513401356560487,
          -0.38645913430751444,
          -1.9501667349870873,
          -1.7060344175389643,
          -2.5142823076945198,
          -2.7969451776549032,
          -1.8969364148587025,
          -1.4930098286578106,
          -1.6396087411855758,
          -0.7059020322439041,
          -1.4147639401796184,
          -1.6320029744059636,
          -0.05008630334694271,
          -0.8097758364861778,
          -2.0635912463012267,
          -1.8266750757500356,
          -0.8860882484729414,
          -1.0228641872952853,
          -0.9158500686850115,
          -1.8457545663682724,
          -1.189963878707663,
          -2.0085170733598163,
          -0.6063017329599082,
          -1.5895411760242706,
          -0.7256941740205974,
          -0.4761110670745791,
          -1.7567098741443048,
          0.12828574003789284,
          -0.9762973081612106,
          0.2393089115817965,
          0.20827547810611102,
          -1.7052827761799785,
          -1.5653034424844343,
          -0.20231141848176268,
          -0.5185269014360598,
          0.30172616514590767,
          0.19970726290981602,
          -0.9494309632253335
         ],
         "y": [
          0.3207120856073312,
          0.06214840515405514,
          0.2335885760238419,
          1.5277666660749012,
          1.35977697813311,
          2.4468958614726946,
          1.8982244951726883,
          1.1671227847184442,
          0.9998065388540831,
          0.8158647695354786,
          1.2766348317256215,
          1.9326687120133683,
          1.757536920319405,
          1.227169492610515,
          1.9190731204135671,
          2.2203874423527714,
          1.9757928276541512,
          3.036083763309733,
          0.9761721134821498,
          3.267900823247425,
          2.725441612094595,
          1.590798238647611,
          2.0187450903425455,
          1.7711258492043953,
          1.2804821226514245,
          2.1098843369728937,
          2.429713527687582,
          3.092199489360332,
          2.1148657340234354,
          1.9192255512709113,
          2.4939031351384093,
          0.6149329200203723,
          1.6817138319046983,
          2.3011370729491962,
          2.2311479213033585,
          3.4815254500366817,
          2.6667271675617243,
          3.305034175310929
         ],
         "z": [
          0.9299678621881141,
          0.2198996183724775,
          -1.325923850959866,
          -0.5972814132175637,
          0.4393056536697805,
          0.9845899255340317,
          -0.6845841447095108,
          0.40470566849952777,
          0.0017087496794410198,
          -0.821909287294996,
          0.0773454860580278,
          0.30987307321125235,
          1.372381664262742,
          0.5878837633124702,
          -0.49477202560316935,
          -0.3749687924422182,
          -0.6923756897501768,
          -0.6678380943691536,
          -0.2820434282984028,
          -0.07617448728964928,
          -0.7854526460527478,
          -0.2361627487376431,
          0.420710373291927,
          0.7075882345489283,
          0.9009920894346626,
          -1.2533539378190035,
          -0.5257589586173211,
          0.4332774561083231,
          -0.9240096389334757,
          -0.1631544202337234,
          1.313925531363295,
          0.4660523690236316,
          -1.2591222718486481,
          -1.5016307395463497,
          0.27091471452979493,
          1.2626421420189171,
          0.7323442290832068,
          -0.6004689372986686
         ]
        }
       ],
       "layout": {
        "legend": {
         "title": {
          "text": "Cultivator"
         },
         "tracegroupgap": 0
        },
        "scene": {
         "domain": {
          "x": [
           0,
           1
          ],
          "y": [
           0,
           1
          ]
         },
         "xaxis": {
          "title": {
           "text": "PC1"
          }
         },
         "yaxis": {
          "title": {
           "text": "PC2"
          }
         },
         "zaxis": {
          "title": {
           "text": "PC3"
          }
         }
        },
        "template": {
         "data": {
          "bar": [
           {
            "error_x": {
             "color": "#2a3f5f"
            },
            "error_y": {
             "color": "#2a3f5f"
            },
            "marker": {
             "line": {
              "color": "#E5ECF6",
              "width": 0.5
             },
             "pattern": {
              "fillmode": "overlay",
              "size": 10,
              "solidity": 0.2
             }
            },
            "type": "bar"
           }
          ],
          "barpolar": [
           {
            "marker": {
             "line": {
              "color": "#E5ECF6",
              "width": 0.5
             },
             "pattern": {
              "fillmode": "overlay",
              "size": 10,
              "solidity": 0.2
             }
            },
            "type": "barpolar"
           }
          ],
          "carpet": [
           {
            "aaxis": {
             "endlinecolor": "#2a3f5f",
             "gridcolor": "white",
             "linecolor": "white",
             "minorgridcolor": "white",
             "startlinecolor": "#2a3f5f"
            },
            "baxis": {
             "endlinecolor": "#2a3f5f",
             "gridcolor": "white",
             "linecolor": "white",
             "minorgridcolor": "white",
             "startlinecolor": "#2a3f5f"
            },
            "type": "carpet"
           }
          ],
          "choropleth": [
           {
            "colorbar": {
             "outlinewidth": 0,
             "ticks": ""
            },
            "type": "choropleth"
           }
          ],
          "contour": [
           {
            "colorbar": {
             "outlinewidth": 0,
             "ticks": ""
            },
            "colorscale": [
             [
              0,
              "#0d0887"
             ],
             [
              0.1111111111111111,
              "#46039f"
             ],
             [
              0.2222222222222222,
              "#7201a8"
             ],
             [
              0.3333333333333333,
              "#9c179e"
             ],
             [
              0.4444444444444444,
              "#bd3786"
             ],
             [
              0.5555555555555556,
              "#d8576b"
             ],
             [
              0.6666666666666666,
              "#ed7953"
             ],
             [
              0.7777777777777778,
              "#fb9f3a"
             ],
             [
              0.8888888888888888,
              "#fdca26"
             ],
             [
              1,
              "#f0f921"
             ]
            ],
            "type": "contour"
           }
          ],
          "contourcarpet": [
           {
            "colorbar": {
             "outlinewidth": 0,
             "ticks": ""
            },
            "type": "contourcarpet"
           }
          ],
          "heatmap": [
           {
            "colorbar": {
             "outlinewidth": 0,
             "ticks": ""
            },
            "colorscale": [
             [
              0,
              "#0d0887"
             ],
             [
              0.1111111111111111,
              "#46039f"
             ],
             [
              0.2222222222222222,
              "#7201a8"
             ],
             [
              0.3333333333333333,
              "#9c179e"
             ],
             [
              0.4444444444444444,
              "#bd3786"
             ],
             [
              0.5555555555555556,
              "#d8576b"
             ],
             [
              0.6666666666666666,
              "#ed7953"
             ],
             [
              0.7777777777777778,
              "#fb9f3a"
             ],
             [
              0.8888888888888888,
              "#fdca26"
             ],
             [
              1,
              "#f0f921"
             ]
            ],
            "type": "heatmap"
           }
          ],
          "heatmapgl": [
           {
            "colorbar": {
             "outlinewidth": 0,
             "ticks": ""
            },
            "colorscale": [
             [
              0,
              "#0d0887"
             ],
             [
              0.1111111111111111,
              "#46039f"
             ],
             [
              0.2222222222222222,
              "#7201a8"
             ],
             [
              0.3333333333333333,
              "#9c179e"
             ],
             [
              0.4444444444444444,
              "#bd3786"
             ],
             [
              0.5555555555555556,
              "#d8576b"
             ],
             [
              0.6666666666666666,
              "#ed7953"
             ],
             [
              0.7777777777777778,
              "#fb9f3a"
             ],
             [
              0.8888888888888888,
              "#fdca26"
             ],
             [
              1,
              "#f0f921"
             ]
            ],
            "type": "heatmapgl"
           }
          ],
          "histogram": [
           {
            "marker": {
             "pattern": {
              "fillmode": "overlay",
              "size": 10,
              "solidity": 0.2
             }
            },
            "type": "histogram"
           }
          ],
          "histogram2d": [
           {
            "colorbar": {
             "outlinewidth": 0,
             "ticks": ""
            },
            "colorscale": [
             [
              0,
              "#0d0887"
             ],
             [
              0.1111111111111111,
              "#46039f"
             ],
             [
              0.2222222222222222,
              "#7201a8"
             ],
             [
              0.3333333333333333,
              "#9c179e"
             ],
             [
              0.4444444444444444,
              "#bd3786"
             ],
             [
              0.5555555555555556,
              "#d8576b"
             ],
             [
              0.6666666666666666,
              "#ed7953"
             ],
             [
              0.7777777777777778,
              "#fb9f3a"
             ],
             [
              0.8888888888888888,
              "#fdca26"
             ],
             [
              1,
              "#f0f921"
             ]
            ],
            "type": "histogram2d"
           }
          ],
          "histogram2dcontour": [
           {
            "colorbar": {
             "outlinewidth": 0,
             "ticks": ""
            },
            "colorscale": [
             [
              0,
              "#0d0887"
             ],
             [
              0.1111111111111111,
              "#46039f"
             ],
             [
              0.2222222222222222,
              "#7201a8"
             ],
             [
              0.3333333333333333,
              "#9c179e"
             ],
             [
              0.4444444444444444,
              "#bd3786"
             ],
             [
              0.5555555555555556,
              "#d8576b"
             ],
             [
              0.6666666666666666,
              "#ed7953"
             ],
             [
              0.7777777777777778,
              "#fb9f3a"
             ],
             [
              0.8888888888888888,
              "#fdca26"
             ],
             [
              1,
              "#f0f921"
             ]
            ],
            "type": "histogram2dcontour"
           }
          ],
          "mesh3d": [
           {
            "colorbar": {
             "outlinewidth": 0,
             "ticks": ""
            },
            "type": "mesh3d"
           }
          ],
          "parcoords": [
           {
            "line": {
             "colorbar": {
              "outlinewidth": 0,
              "ticks": ""
             }
            },
            "type": "parcoords"
           }
          ],
          "pie": [
           {
            "automargin": true,
            "type": "pie"
           }
          ],
          "scatter": [
           {
            "marker": {
             "colorbar": {
              "outlinewidth": 0,
              "ticks": ""
             }
            },
            "type": "scatter"
           }
          ],
          "scatter3d": [
           {
            "line": {
             "colorbar": {
              "outlinewidth": 0,
              "ticks": ""
             }
            },
            "marker": {
             "colorbar": {
              "outlinewidth": 0,
              "ticks": ""
             }
            },
            "type": "scatter3d"
           }
          ],
          "scattercarpet": [
           {
            "marker": {
             "colorbar": {
              "outlinewidth": 0,
              "ticks": ""
             }
            },
            "type": "scattercarpet"
           }
          ],
          "scattergeo": [
           {
            "marker": {
             "colorbar": {
              "outlinewidth": 0,
              "ticks": ""
             }
            },
            "type": "scattergeo"
           }
          ],
          "scattergl": [
           {
            "marker": {
             "colorbar": {
              "outlinewidth": 0,
              "ticks": ""
             }
            },
            "type": "scattergl"
           }
          ],
          "scattermapbox": [
           {
            "marker": {
             "colorbar": {
              "outlinewidth": 0,
              "ticks": ""
             }
            },
            "type": "scattermapbox"
           }
          ],
          "scatterpolar": [
           {
            "marker": {
             "colorbar": {
              "outlinewidth": 0,
              "ticks": ""
             }
            },
            "type": "scatterpolar"
           }
          ],
          "scatterpolargl": [
           {
            "marker": {
             "colorbar": {
              "outlinewidth": 0,
              "ticks": ""
             }
            },
            "type": "scatterpolargl"
           }
          ],
          "scatterternary": [
           {
            "marker": {
             "colorbar": {
              "outlinewidth": 0,
              "ticks": ""
             }
            },
            "type": "scatterternary"
           }
          ],
          "surface": [
           {
            "colorbar": {
             "outlinewidth": 0,
             "ticks": ""
            },
            "colorscale": [
             [
              0,
              "#0d0887"
             ],
             [
              0.1111111111111111,
              "#46039f"
             ],
             [
              0.2222222222222222,
              "#7201a8"
             ],
             [
              0.3333333333333333,
              "#9c179e"
             ],
             [
              0.4444444444444444,
              "#bd3786"
             ],
             [
              0.5555555555555556,
              "#d8576b"
             ],
             [
              0.6666666666666666,
              "#ed7953"
             ],
             [
              0.7777777777777778,
              "#fb9f3a"
             ],
             [
              0.8888888888888888,
              "#fdca26"
             ],
             [
              1,
              "#f0f921"
             ]
            ],
            "type": "surface"
           }
          ],
          "table": [
           {
            "cells": {
             "fill": {
              "color": "#EBF0F8"
             },
             "line": {
              "color": "white"
             }
            },
            "header": {
             "fill": {
              "color": "#C8D4E3"
             },
             "line": {
              "color": "white"
             }
            },
            "type": "table"
           }
          ]
         },
         "layout": {
          "annotationdefaults": {
           "arrowcolor": "#2a3f5f",
           "arrowhead": 0,
           "arrowwidth": 1
          },
          "autotypenumbers": "strict",
          "coloraxis": {
           "colorbar": {
            "outlinewidth": 0,
            "ticks": ""
           }
          },
          "colorscale": {
           "diverging": [
            [
             0,
             "#8e0152"
            ],
            [
             0.1,
             "#c51b7d"
            ],
            [
             0.2,
             "#de77ae"
            ],
            [
             0.3,
             "#f1b6da"
            ],
            [
             0.4,
             "#fde0ef"
            ],
            [
             0.5,
             "#f7f7f7"
            ],
            [
             0.6,
             "#e6f5d0"
            ],
            [
             0.7,
             "#b8e186"
            ],
            [
             0.8,
             "#7fbc41"
            ],
            [
             0.9,
             "#4d9221"
            ],
            [
             1,
             "#276419"
            ]
           ],
           "sequential": [
            [
             0,
             "#0d0887"
            ],
            [
             0.1111111111111111,
             "#46039f"
            ],
            [
             0.2222222222222222,
             "#7201a8"
            ],
            [
             0.3333333333333333,
             "#9c179e"
            ],
            [
             0.4444444444444444,
             "#bd3786"
            ],
            [
             0.5555555555555556,
             "#d8576b"
            ],
            [
             0.6666666666666666,
             "#ed7953"
            ],
            [
             0.7777777777777778,
             "#fb9f3a"
            ],
            [
             0.8888888888888888,
             "#fdca26"
            ],
            [
             1,
             "#f0f921"
            ]
           ],
           "sequentialminus": [
            [
             0,
             "#0d0887"
            ],
            [
             0.1111111111111111,
             "#46039f"
            ],
            [
             0.2222222222222222,
             "#7201a8"
            ],
            [
             0.3333333333333333,
             "#9c179e"
            ],
            [
             0.4444444444444444,
             "#bd3786"
            ],
            [
             0.5555555555555556,
             "#d8576b"
            ],
            [
             0.6666666666666666,
             "#ed7953"
            ],
            [
             0.7777777777777778,
             "#fb9f3a"
            ],
            [
             0.8888888888888888,
             "#fdca26"
            ],
            [
             1,
             "#f0f921"
            ]
           ]
          },
          "colorway": [
           "#636efa",
           "#EF553B",
           "#00cc96",
           "#ab63fa",
           "#FFA15A",
           "#19d3f3",
           "#FF6692",
           "#B6E880",
           "#FF97FF",
           "#FECB52"
          ],
          "font": {
           "color": "#2a3f5f"
          },
          "geo": {
           "bgcolor": "white",
           "lakecolor": "white",
           "landcolor": "#E5ECF6",
           "showlakes": true,
           "showland": true,
           "subunitcolor": "white"
          },
          "hoverlabel": {
           "align": "left"
          },
          "hovermode": "closest",
          "mapbox": {
           "style": "light"
          },
          "paper_bgcolor": "white",
          "plot_bgcolor": "#E5ECF6",
          "polar": {
           "angularaxis": {
            "gridcolor": "white",
            "linecolor": "white",
            "ticks": ""
           },
           "bgcolor": "#E5ECF6",
           "radialaxis": {
            "gridcolor": "white",
            "linecolor": "white",
            "ticks": ""
           }
          },
          "scene": {
           "xaxis": {
            "backgroundcolor": "#E5ECF6",
            "gridcolor": "white",
            "gridwidth": 2,
            "linecolor": "white",
            "showbackground": true,
            "ticks": "",
            "zerolinecolor": "white"
           },
           "yaxis": {
            "backgroundcolor": "#E5ECF6",
            "gridcolor": "white",
            "gridwidth": 2,
            "linecolor": "white",
            "showbackground": true,
            "ticks": "",
            "zerolinecolor": "white"
           },
           "zaxis": {
            "backgroundcolor": "#E5ECF6",
            "gridcolor": "white",
            "gridwidth": 2,
            "linecolor": "white",
            "showbackground": true,
            "ticks": "",
            "zerolinecolor": "white"
           }
          },
          "shapedefaults": {
           "line": {
            "color": "#2a3f5f"
           }
          },
          "ternary": {
           "aaxis": {
            "gridcolor": "white",
            "linecolor": "white",
            "ticks": ""
           },
           "baxis": {
            "gridcolor": "white",
            "linecolor": "white",
            "ticks": ""
           },
           "bgcolor": "#E5ECF6",
           "caxis": {
            "gridcolor": "white",
            "linecolor": "white",
            "ticks": ""
           }
          },
          "title": {
           "x": 0.05
          },
          "xaxis": {
           "automargin": true,
           "gridcolor": "white",
           "linecolor": "white",
           "ticks": "",
           "title": {
            "standoff": 15
           },
           "zerolinecolor": "white",
           "zerolinewidth": 2
          },
          "yaxis": {
           "automargin": true,
           "gridcolor": "white",
           "linecolor": "white",
           "ticks": "",
           "title": {
            "standoff": 15
           },
           "zerolinecolor": "white",
           "zerolinewidth": 2
          }
         }
        },
        "title": {
         "text": "Score Plot"
        }
       }
      }
     },
     "metadata": {},
     "output_type": "display_data"
    }
   ],
   "source": [
    "plot_3d()"
   ]
  }
 ],
 "metadata": {
  "kernelspec": {
   "display_name": "Python 3.8.8 ('base')",
   "language": "python",
   "name": "python3"
  },
  "language_info": {
   "codemirror_mode": {
    "name": "ipython",
    "version": 3
   },
   "file_extension": ".py",
   "mimetype": "text/x-python",
   "name": "python",
   "nbconvert_exporter": "python",
   "pygments_lexer": "ipython3",
   "version": "3.8.13"
  },
  "orig_nbformat": 4,
  "vscode": {
   "interpreter": {
    "hash": "8115c509434e7e4682577b1bb641dd6e40a9781d5ef10df97e95fee9ac99dd9b"
   }
  }
 },
 "nbformat": 4,
 "nbformat_minor": 2
}
