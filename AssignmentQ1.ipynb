{
 "cells": [
  {
   "cell_type": "code",
   "execution_count": 1,
   "metadata": {},
   "outputs": [],
   "source": [
    "from sklearn.decomposition import PCA\n",
    "import pandas as pd\n",
    "import numpy as np\n",
    "import pandas as pd\n",
    "import seaborn as sns\n",
    "import matplotlib.pyplot as plt"
   ]
  },
  {
   "cell_type": "code",
   "execution_count": 2,
   "metadata": {},
   "outputs": [
    {
     "data": {
      "text/html": [
       "<div>\n",
       "<style scoped>\n",
       "    .dataframe tbody tr th:only-of-type {\n",
       "        vertical-align: middle;\n",
       "    }\n",
       "\n",
       "    .dataframe tbody tr th {\n",
       "        vertical-align: top;\n",
       "    }\n",
       "\n",
       "    .dataframe thead th {\n",
       "        text-align: right;\n",
       "    }\n",
       "</style>\n",
       "<table border=\"1\" class=\"dataframe\">\n",
       "  <thead>\n",
       "    <tr style=\"text-align: right;\">\n",
       "      <th></th>\n",
       "      <th>Type</th>\n",
       "      <th>Description</th>\n",
       "      <th>Protein_g</th>\n",
       "      <th>Fat_g</th>\n",
       "      <th>Carb_g</th>\n",
       "      <th>Sugar_g</th>\n",
       "      <th>Fiber_g</th>\n",
       "      <th>VitA_mcg</th>\n",
       "    </tr>\n",
       "  </thead>\n",
       "  <tbody>\n",
       "    <tr>\n",
       "      <th>0</th>\n",
       "      <td>Poultry Products</td>\n",
       "      <td>Turkey, all classes, wing, meat and skin, raw</td>\n",
       "      <td>20.22</td>\n",
       "      <td>12.32</td>\n",
       "      <td>0.00</td>\n",
       "      <td>0.00</td>\n",
       "      <td>0.0</td>\n",
       "      <td>3</td>\n",
       "    </tr>\n",
       "    <tr>\n",
       "      <th>1</th>\n",
       "      <td>Fruits and Fruit Juices</td>\n",
       "      <td>Pears, raw, green anjou</td>\n",
       "      <td>0.44</td>\n",
       "      <td>0.10</td>\n",
       "      <td>15.79</td>\n",
       "      <td>9.73</td>\n",
       "      <td>3.1</td>\n",
       "      <td>1</td>\n",
       "    </tr>\n",
       "    <tr>\n",
       "      <th>2</th>\n",
       "      <td>Fruits and Fruit Juices</td>\n",
       "      <td>Maraschino cherries, canned, drained</td>\n",
       "      <td>0.22</td>\n",
       "      <td>0.21</td>\n",
       "      <td>41.97</td>\n",
       "      <td>38.77</td>\n",
       "      <td>3.2</td>\n",
       "      <td>2</td>\n",
       "    </tr>\n",
       "    <tr>\n",
       "      <th>3</th>\n",
       "      <td>Poultry Products</td>\n",
       "      <td>Chicken, stewing, meat only, cooked, stewed</td>\n",
       "      <td>30.42</td>\n",
       "      <td>11.89</td>\n",
       "      <td>0.00</td>\n",
       "      <td>0.00</td>\n",
       "      <td>0.0</td>\n",
       "      <td>34</td>\n",
       "    </tr>\n",
       "    <tr>\n",
       "      <th>4</th>\n",
       "      <td>Breakfast Cereals</td>\n",
       "      <td>Cereals ready-to-eat, wheat and bran, presweet...</td>\n",
       "      <td>7.10</td>\n",
       "      <td>5.60</td>\n",
       "      <td>76.20</td>\n",
       "      <td>23.60</td>\n",
       "      <td>9.7</td>\n",
       "      <td>410</td>\n",
       "    </tr>\n",
       "  </tbody>\n",
       "</table>\n",
       "</div>"
      ],
      "text/plain": [
       "                      Type                                        Description  \\\n",
       "0         Poultry Products      Turkey, all classes, wing, meat and skin, raw   \n",
       "1  Fruits and Fruit Juices                            Pears, raw, green anjou   \n",
       "2  Fruits and Fruit Juices               Maraschino cherries, canned, drained   \n",
       "3         Poultry Products        Chicken, stewing, meat only, cooked, stewed   \n",
       "4        Breakfast Cereals  Cereals ready-to-eat, wheat and bran, presweet...   \n",
       "\n",
       "   Protein_g  Fat_g  Carb_g  Sugar_g  Fiber_g  VitA_mcg  \n",
       "0      20.22  12.32    0.00     0.00      0.0         3  \n",
       "1       0.44   0.10   15.79     9.73      3.1         1  \n",
       "2       0.22   0.21   41.97    38.77      3.2         2  \n",
       "3      30.42  11.89    0.00     0.00      0.0        34  \n",
       "4       7.10   5.60   76.20    23.60      9.7       410  "
      ]
     },
     "execution_count": 2,
     "metadata": {},
     "output_type": "execute_result"
    }
   ],
   "source": [
    "data = pd.read_csv('datasets/food_nutrition.csv')\n",
    "data.head()"
   ]
  },
  {
   "cell_type": "markdown",
   "metadata": {},
   "source": [
    "# 1a)"
   ]
  },
  {
   "cell_type": "markdown",
   "metadata": {},
   "source": [
    "The United States Department of Agriculture (USDA) has its National Nutrient Database which\n",
    "compiles the nutritional information of food products. A subset of the data on food products is\n",
    "in the data file food_nutrition.csv. The amount of nutrients per 100g of each food product is\n",
    "measured."
   ]
  },
  {
   "cell_type": "markdown",
   "metadata": {},
   "source": [
    "Simple Exploratory Data Analysis"
   ]
  },
  {
   "cell_type": "code",
   "execution_count": 3,
   "metadata": {},
   "outputs": [
    {
     "data": {
      "image/png": "[encoded data removed]",
      "text/plain": [
       "<Figure size 432x288 with 6 Axes>"
      ]
     },
     "metadata": {
      "needs_background": "light"
     },
     "output_type": "display_data"
    }
   ],
   "source": [
    "data[['Protein_g','Fat_g','Carb_g', 'Sugar_g', 'Fiber_g','VitA_mcg' ]].hist()\n",
    "plt.tight_layout()\n",
    "plt.show()"
   ]
  },
  {
   "cell_type": "markdown",
   "metadata": {},
   "source": [
    "Different magnitudes"
   ]
  },
  {
   "cell_type": "code",
   "execution_count": 4,
   "metadata": {},
   "outputs": [
    {
     "data": {
      "text/html": [
       "<div>\n",
       "<style scoped>\n",
       "    .dataframe tbody tr th:only-of-type {\n",
       "        vertical-align: middle;\n",
       "    }\n",
       "\n",
       "    .dataframe tbody tr th {\n",
       "        vertical-align: top;\n",
       "    }\n",
       "\n",
       "    .dataframe thead th {\n",
       "        text-align: right;\n",
       "    }\n",
       "</style>\n",
       "<table border=\"1\" class=\"dataframe\">\n",
       "  <thead>\n",
       "    <tr style=\"text-align: right;\">\n",
       "      <th></th>\n",
       "      <th>Protein_g</th>\n",
       "      <th>Fat_g</th>\n",
       "      <th>Carb_g</th>\n",
       "      <th>Sugar_g</th>\n",
       "      <th>Fiber_g</th>\n",
       "      <th>VitA_mcg</th>\n",
       "    </tr>\n",
       "  </thead>\n",
       "  <tbody>\n",
       "    <tr>\n",
       "      <th>count</th>\n",
       "      <td>234.000000</td>\n",
       "      <td>234.000000</td>\n",
       "      <td>234.000000</td>\n",
       "      <td>234.000000</td>\n",
       "      <td>234.000000</td>\n",
       "      <td>234.000000</td>\n",
       "    </tr>\n",
       "    <tr>\n",
       "      <th>mean</th>\n",
       "      <td>8.908462</td>\n",
       "      <td>4.803803</td>\n",
       "      <td>28.265556</td>\n",
       "      <td>11.064573</td>\n",
       "      <td>3.702991</td>\n",
       "      <td>187.047009</td>\n",
       "    </tr>\n",
       "    <tr>\n",
       "      <th>std</th>\n",
       "      <td>9.830258</td>\n",
       "      <td>6.560120</td>\n",
       "      <td>32.084279</td>\n",
       "      <td>12.569516</td>\n",
       "      <td>4.405083</td>\n",
       "      <td>261.453321</td>\n",
       "    </tr>\n",
       "    <tr>\n",
       "      <th>min</th>\n",
       "      <td>0.000000</td>\n",
       "      <td>0.000000</td>\n",
       "      <td>0.000000</td>\n",
       "      <td>0.000000</td>\n",
       "      <td>0.000000</td>\n",
       "      <td>0.000000</td>\n",
       "    </tr>\n",
       "    <tr>\n",
       "      <th>25%</th>\n",
       "      <td>1.100000</td>\n",
       "      <td>0.200000</td>\n",
       "      <td>6.640000</td>\n",
       "      <td>1.185000</td>\n",
       "      <td>1.200000</td>\n",
       "      <td>2.000000</td>\n",
       "    </tr>\n",
       "    <tr>\n",
       "      <th>50%</th>\n",
       "      <td>4.850000</td>\n",
       "      <td>2.100000</td>\n",
       "      <td>14.400000</td>\n",
       "      <td>3.830000</td>\n",
       "      <td>2.600000</td>\n",
       "      <td>32.500000</td>\n",
       "    </tr>\n",
       "    <tr>\n",
       "      <th>75%</th>\n",
       "      <td>12.132500</td>\n",
       "      <td>7.300000</td>\n",
       "      <td>74.465000</td>\n",
       "      <td>19.667500</td>\n",
       "      <td>5.175000</td>\n",
       "      <td>383.750000</td>\n",
       "    </tr>\n",
       "    <tr>\n",
       "      <th>max</th>\n",
       "      <td>30.420000</td>\n",
       "      <td>40.680000</td>\n",
       "      <td>89.300000</td>\n",
       "      <td>57.190000</td>\n",
       "      <td>42.500000</td>\n",
       "      <td>943.000000</td>\n",
       "    </tr>\n",
       "  </tbody>\n",
       "</table>\n",
       "</div>"
      ],
      "text/plain": [
       "        Protein_g       Fat_g      Carb_g     Sugar_g     Fiber_g    VitA_mcg\n",
       "count  234.000000  234.000000  234.000000  234.000000  234.000000  234.000000\n",
       "mean     8.908462    4.803803   28.265556   11.064573    3.702991  187.047009\n",
       "std      9.830258    6.560120   32.084279   12.569516    4.405083  261.453321\n",
       "min      0.000000    0.000000    0.000000    0.000000    0.000000    0.000000\n",
       "25%      1.100000    0.200000    6.640000    1.185000    1.200000    2.000000\n",
       "50%      4.850000    2.100000   14.400000    3.830000    2.600000   32.500000\n",
       "75%     12.132500    7.300000   74.465000   19.667500    5.175000  383.750000\n",
       "max     30.420000   40.680000   89.300000   57.190000   42.500000  943.000000"
      ]
     },
     "execution_count": 4,
     "metadata": {},
     "output_type": "execute_result"
    }
   ],
   "source": [
    "data.describe()"
   ]
  },
  {
   "cell_type": "code",
   "execution_count": 5,
   "metadata": {},
   "outputs": [
    {
     "data": {
      "text/html": [
       "<div>\n",
       "<style scoped>\n",
       "    .dataframe tbody tr th:only-of-type {\n",
       "        vertical-align: middle;\n",
       "    }\n",
       "\n",
       "    .dataframe tbody tr th {\n",
       "        vertical-align: top;\n",
       "    }\n",
       "\n",
       "    .dataframe thead th {\n",
       "        text-align: right;\n",
       "    }\n",
       "</style>\n",
       "<table border=\"1\" class=\"dataframe\">\n",
       "  <thead>\n",
       "    <tr style=\"text-align: right;\">\n",
       "      <th></th>\n",
       "      <th>Protein_g</th>\n",
       "      <th>Fat_g</th>\n",
       "      <th>Carb_g</th>\n",
       "      <th>Sugar_g</th>\n",
       "      <th>Fiber_g</th>\n",
       "      <th>VitA_mcg</th>\n",
       "    </tr>\n",
       "  </thead>\n",
       "  <tbody>\n",
       "    <tr>\n",
       "      <th>0</th>\n",
       "      <td>20.22</td>\n",
       "      <td>12.32</td>\n",
       "      <td>0.00</td>\n",
       "      <td>0.00</td>\n",
       "      <td>0.0</td>\n",
       "      <td>3</td>\n",
       "    </tr>\n",
       "    <tr>\n",
       "      <th>1</th>\n",
       "      <td>0.44</td>\n",
       "      <td>0.10</td>\n",
       "      <td>15.79</td>\n",
       "      <td>9.73</td>\n",
       "      <td>3.1</td>\n",
       "      <td>1</td>\n",
       "    </tr>\n",
       "    <tr>\n",
       "      <th>2</th>\n",
       "      <td>0.22</td>\n",
       "      <td>0.21</td>\n",
       "      <td>41.97</td>\n",
       "      <td>38.77</td>\n",
       "      <td>3.2</td>\n",
       "      <td>2</td>\n",
       "    </tr>\n",
       "    <tr>\n",
       "      <th>3</th>\n",
       "      <td>30.42</td>\n",
       "      <td>11.89</td>\n",
       "      <td>0.00</td>\n",
       "      <td>0.00</td>\n",
       "      <td>0.0</td>\n",
       "      <td>34</td>\n",
       "    </tr>\n",
       "    <tr>\n",
       "      <th>4</th>\n",
       "      <td>7.10</td>\n",
       "      <td>5.60</td>\n",
       "      <td>76.20</td>\n",
       "      <td>23.60</td>\n",
       "      <td>9.7</td>\n",
       "      <td>410</td>\n",
       "    </tr>\n",
       "  </tbody>\n",
       "</table>\n",
       "</div>"
      ],
      "text/plain": [
       "   Protein_g  Fat_g  Carb_g  Sugar_g  Fiber_g  VitA_mcg\n",
       "0      20.22  12.32    0.00     0.00      0.0         3\n",
       "1       0.44   0.10   15.79     9.73      3.1         1\n",
       "2       0.22   0.21   41.97    38.77      3.2         2\n",
       "3      30.42  11.89    0.00     0.00      0.0        34\n",
       "4       7.10   5.60   76.20    23.60      9.7       410"
      ]
     },
     "execution_count": 5,
     "metadata": {},
     "output_type": "execute_result"
    }
   ],
   "source": [
    "data_reduced = data.drop(['Type', 'Description'], axis=1)\n",
    "data_reduced.head()"
   ]
  },
  {
   "cell_type": "markdown",
   "metadata": {},
   "source": [
    "## Scaling"
   ]
  },
  {
   "cell_type": "code",
   "execution_count": 6,
   "metadata": {},
   "outputs": [
    {
     "data": {
      "text/html": [
       "<div>\n",
       "<style scoped>\n",
       "    .dataframe tbody tr th:only-of-type {\n",
       "        vertical-align: middle;\n",
       "    }\n",
       "\n",
       "    .dataframe tbody tr th {\n",
       "        vertical-align: top;\n",
       "    }\n",
       "\n",
       "    .dataframe thead th {\n",
       "        text-align: right;\n",
       "    }\n",
       "</style>\n",
       "<table border=\"1\" class=\"dataframe\">\n",
       "  <thead>\n",
       "    <tr style=\"text-align: right;\">\n",
       "      <th></th>\n",
       "      <th>Protein_g</th>\n",
       "      <th>Fat_g</th>\n",
       "      <th>Carb_g</th>\n",
       "      <th>Sugar_g</th>\n",
       "      <th>Fiber_g</th>\n",
       "      <th>VitA_mcg</th>\n",
       "    </tr>\n",
       "  </thead>\n",
       "  <tbody>\n",
       "    <tr>\n",
       "      <th>0</th>\n",
       "      <td>1.153152</td>\n",
       "      <td>1.148197</td>\n",
       "      <td>-0.882867</td>\n",
       "      <td>-0.882157</td>\n",
       "      <td>-0.842420</td>\n",
       "      <td>-0.705447</td>\n",
       "    </tr>\n",
       "    <tr>\n",
       "      <th>1</th>\n",
       "      <td>-0.863316</td>\n",
       "      <td>-0.718567</td>\n",
       "      <td>-0.389671</td>\n",
       "      <td>-0.106403</td>\n",
       "      <td>-0.137179</td>\n",
       "      <td>-0.713113</td>\n",
       "    </tr>\n",
       "    <tr>\n",
       "      <th>2</th>\n",
       "      <td>-0.885743</td>\n",
       "      <td>-0.701763</td>\n",
       "      <td>0.428055</td>\n",
       "      <td>2.208901</td>\n",
       "      <td>-0.114429</td>\n",
       "      <td>-0.709280</td>\n",
       "    </tr>\n",
       "    <tr>\n",
       "      <th>3</th>\n",
       "      <td>2.192989</td>\n",
       "      <td>1.082509</td>\n",
       "      <td>-0.882867</td>\n",
       "      <td>-0.882157</td>\n",
       "      <td>-0.842420</td>\n",
       "      <td>-0.586625</td>\n",
       "    </tr>\n",
       "    <tr>\n",
       "      <th>4</th>\n",
       "      <td>-0.184363</td>\n",
       "      <td>0.121629</td>\n",
       "      <td>1.497219</td>\n",
       "      <td>0.999426</td>\n",
       "      <td>1.364302</td>\n",
       "      <td>0.854573</td>\n",
       "    </tr>\n",
       "  </tbody>\n",
       "</table>\n",
       "</div>"
      ],
      "text/plain": [
       "   Protein_g     Fat_g    Carb_g   Sugar_g   Fiber_g  VitA_mcg\n",
       "0   1.153152  1.148197 -0.882867 -0.882157 -0.842420 -0.705447\n",
       "1  -0.863316 -0.718567 -0.389671 -0.106403 -0.137179 -0.713113\n",
       "2  -0.885743 -0.701763  0.428055  2.208901 -0.114429 -0.709280\n",
       "3   2.192989  1.082509 -0.882867 -0.882157 -0.842420 -0.586625\n",
       "4  -0.184363  0.121629  1.497219  0.999426  1.364302  0.854573"
      ]
     },
     "execution_count": 6,
     "metadata": {},
     "output_type": "execute_result"
    }
   ],
   "source": [
    "from sklearn.preprocessing import scale\n",
    "# scaling the data before PCA\n",
    "data_reduced = pd.DataFrame(scale(data_reduced), columns=data_reduced.columns)\n",
    "data_reduced.head()"
   ]
  },
  {
   "cell_type": "markdown",
   "metadata": {},
   "source": [
    "# 1b)"
   ]
  },
  {
   "cell_type": "code",
   "execution_count": 7,
   "metadata": {},
   "outputs": [],
   "source": [
    "pca_ = PCA(n_components=6).fit(data_reduced)\n",
    "# Pick components = 6\n",
    "#Note that pca.transform() returns scores based on centred data\n",
    "pca_samples = pca_.transform(data_reduced)"
   ]
  },
  {
   "cell_type": "code",
   "execution_count": 8,
   "metadata": {},
   "outputs": [],
   "source": [
    "# Computes the PCs and percentage variance explained\n",
    "# Pass original data and returns of PCA to this function.\n",
    "# This function returns a table summarising the eigenvalues, % variance explained, cumulative % variance explained and PCs\n",
    "\n",
    "def pca_results(data, pca):\n",
    "    \n",
    "    # Dimension indexing\n",
    "    dimensions = ['PC {}'.format(i) for i in range(1,len(pca.components_)+1)]\n",
    "    \n",
    "    # PCA components\n",
    "    components = pd.DataFrame(np.round(pca.components_, 4), columns = data.keys())\n",
    "    components.index = dimensions\n",
    "\n",
    "    #PCA eigenvalues\n",
    "    ev = pca.explained_variance_.reshape(len(pca.components_), 1)\n",
    "    eigenvalues = pd.DataFrame(np.round(ev, 4), columns = ['Eigenvalue']) \n",
    "    eigenvalues.index = dimensions\n",
    "    \n",
    "    # PCA explained variance\n",
    "    ratios = pca.explained_variance_ratio_.reshape(len(pca.components_), 1) \n",
    "    variance_ratios = pd.DataFrame(np.round(ratios, 4), columns = ['Explained Variance']) \n",
    "    variance_ratios.index = dimensions \n",
    "    \n",
    "    #PCA cumulative variance explained\n",
    "    cum_ratios = pca.explained_variance_ratio_.cumsum().reshape(len(pca.components_), 1)\n",
    "    cum_variance_ratios = pd.DataFrame(np.round(cum_ratios, 4), columns = ['Cumulative Explained Variance'])\n",
    "    cum_variance_ratios.index = dimensions\n",
    "\n",
    "    # Return a concatenated DataFrame\n",
    "    return pd.concat([eigenvalues, variance_ratios, cum_variance_ratios, components], axis = 1)"
   ]
  },
  {
   "cell_type": "code",
   "execution_count": 9,
   "metadata": {},
   "outputs": [
    {
     "data": {
      "text/html": [
       "<div>\n",
       "<style scoped>\n",
       "    .dataframe tbody tr th:only-of-type {\n",
       "        vertical-align: middle;\n",
       "    }\n",
       "\n",
       "    .dataframe tbody tr th {\n",
       "        vertical-align: top;\n",
       "    }\n",
       "\n",
       "    .dataframe thead th {\n",
       "        text-align: right;\n",
       "    }\n",
       "</style>\n",
       "<table border=\"1\" class=\"dataframe\">\n",
       "  <thead>\n",
       "    <tr style=\"text-align: right;\">\n",
       "      <th></th>\n",
       "      <th>Eigenvalue</th>\n",
       "      <th>Explained Variance</th>\n",
       "      <th>Cumulative Explained Variance</th>\n",
       "      <th>Protein_g</th>\n",
       "      <th>Fat_g</th>\n",
       "      <th>Carb_g</th>\n",
       "      <th>Sugar_g</th>\n",
       "      <th>Fiber_g</th>\n",
       "      <th>VitA_mcg</th>\n",
       "    </tr>\n",
       "  </thead>\n",
       "  <tbody>\n",
       "    <tr>\n",
       "      <th>PC 1</th>\n",
       "      <td>3.3609</td>\n",
       "      <td>0.5578</td>\n",
       "      <td>0.5578</td>\n",
       "      <td>-0.2884</td>\n",
       "      <td>-0.2594</td>\n",
       "      <td>0.5052</td>\n",
       "      <td>0.4757</td>\n",
       "      <td>0.4466</td>\n",
       "      <td>0.4106</td>\n",
       "    </tr>\n",
       "    <tr>\n",
       "      <th>PC 2</th>\n",
       "      <td>1.6162</td>\n",
       "      <td>0.2682</td>\n",
       "      <td>0.8260</td>\n",
       "      <td>0.6283</td>\n",
       "      <td>0.6547</td>\n",
       "      <td>0.2250</td>\n",
       "      <td>0.1195</td>\n",
       "      <td>0.1158</td>\n",
       "      <td>0.3136</td>\n",
       "    </tr>\n",
       "    <tr>\n",
       "      <th>PC 3</th>\n",
       "      <td>0.4188</td>\n",
       "      <td>0.0695</td>\n",
       "      <td>0.8955</td>\n",
       "      <td>0.1016</td>\n",
       "      <td>-0.0431</td>\n",
       "      <td>-0.1233</td>\n",
       "      <td>-0.4933</td>\n",
       "      <td>0.8411</td>\n",
       "      <td>-0.1477</td>\n",
       "    </tr>\n",
       "    <tr>\n",
       "      <th>PC 4</th>\n",
       "      <td>0.3982</td>\n",
       "      <td>0.0661</td>\n",
       "      <td>0.9616</td>\n",
       "      <td>-0.0793</td>\n",
       "      <td>-0.1393</td>\n",
       "      <td>-0.1604</td>\n",
       "      <td>-0.4999</td>\n",
       "      <td>-0.1705</td>\n",
       "      <td>0.8183</td>\n",
       "    </tr>\n",
       "    <tr>\n",
       "      <th>PC 5</th>\n",
       "      <td>0.1595</td>\n",
       "      <td>0.0265</td>\n",
       "      <td>0.9880</td>\n",
       "      <td>-0.7065</td>\n",
       "      <td>0.6943</td>\n",
       "      <td>-0.0963</td>\n",
       "      <td>-0.0447</td>\n",
       "      <td>0.0842</td>\n",
       "      <td>0.0211</td>\n",
       "    </tr>\n",
       "    <tr>\n",
       "      <th>PC 6</th>\n",
       "      <td>0.0722</td>\n",
       "      <td>0.0120</td>\n",
       "      <td>1.0000</td>\n",
       "      <td>0.0796</td>\n",
       "      <td>-0.0286</td>\n",
       "      <td>-0.8025</td>\n",
       "      <td>0.5140</td>\n",
       "      <td>0.2085</td>\n",
       "      <td>0.2030</td>\n",
       "    </tr>\n",
       "  </tbody>\n",
       "</table>\n",
       "</div>"
      ],
      "text/plain": [
       "      Eigenvalue  Explained Variance  Cumulative Explained Variance  \\\n",
       "PC 1      3.3609              0.5578                         0.5578   \n",
       "PC 2      1.6162              0.2682                         0.8260   \n",
       "PC 3      0.4188              0.0695                         0.8955   \n",
       "PC 4      0.3982              0.0661                         0.9616   \n",
       "PC 5      0.1595              0.0265                         0.9880   \n",
       "PC 6      0.0722              0.0120                         1.0000   \n",
       "\n",
       "      Protein_g   Fat_g  Carb_g  Sugar_g  Fiber_g  VitA_mcg  \n",
       "PC 1    -0.2884 -0.2594  0.5052   0.4757   0.4466    0.4106  \n",
       "PC 2     0.6283  0.6547  0.2250   0.1195   0.1158    0.3136  \n",
       "PC 3     0.1016 -0.0431 -0.1233  -0.4933   0.8411   -0.1477  \n",
       "PC 4    -0.0793 -0.1393 -0.1604  -0.4999  -0.1705    0.8183  \n",
       "PC 5    -0.7065  0.6943 -0.0963  -0.0447   0.0842    0.0211  \n",
       "PC 6     0.0796 -0.0286 -0.8025   0.5140   0.2085    0.2030  "
      ]
     },
     "execution_count": 9,
     "metadata": {},
     "output_type": "execute_result"
    }
   ],
   "source": [
    "pca_results = pca_results(data_reduced, pca_)\n",
    "pca_results"
   ]
  },
  {
   "cell_type": "code",
   "execution_count": 10,
   "metadata": {},
   "outputs": [
    {
     "data": {
      "text/plain": [
       "<Figure size 432x288 with 0 Axes>"
      ]
     },
     "metadata": {},
     "output_type": "display_data"
    },
    {
     "data": {
      "image/png": "[encoded data removed]",
      "text/plain": [
       "<Figure size 432x288 with 1 Axes>"
      ]
     },
     "metadata": {
      "needs_background": "light"
     },
     "output_type": "display_data"
    }
   ],
   "source": [
    "#Scree plot\n",
    "import matplotlib.ticker as ticker\n",
    "plt.clf()\n",
    "fig1, ax1 = plt.subplots()\n",
    "ax1.plot(np.arange(1, len(pca_.explained_variance_)+1), pca_.explained_variance_)\n",
    "ax1.xaxis.set_major_locator(ticker.MultipleLocator(1))\n",
    "ax1.set(xlabel = 'Component number', ylabel = 'Eigenvalue', title = 'Screeplot')\n",
    "plt.show()"
   ]
  },
  {
   "cell_type": "code",
   "execution_count": 11,
   "metadata": {},
   "outputs": [],
   "source": [
    "#Extract only the two PCs\n",
    "pca2 = PCA(n_components=2).fit(data_reduced)\n",
    "scores2 = pca2.transform(data_reduced)"
   ]
  },
  {
   "cell_type": "code",
   "execution_count": 12,
   "metadata": {},
   "outputs": [],
   "source": [
    "# This function plots the loading plot.\n",
    "# Pass original data dataframe and returns of PCA to this function. Optional width, height and margin\n",
    "# This function returns the axes of the loading plot\n",
    "\n",
    "def loadingplot(data, pca, width=9, height=9, margin=0.2):\n",
    "\n",
    "    fig, ax = plt.subplots(figsize = (width,height))\n",
    "\n",
    "    #Set limits for figure\n",
    "    x_min = min(pca.components_[0,:].min(),0)-margin\n",
    "    x_max = max(pca.components_[0,:].max(),0)+margin\n",
    "    y_min = min(pca.components_[1,:].min(),0)-margin\n",
    "    y_max = max(pca.components_[1,:].max(),0)+margin\n",
    "\n",
    "    ax.set_xlim(x_min, x_max)\n",
    "    ax.set_ylim(y_min, y_max)\n",
    "\n",
    "    #Scaling factor for text position\n",
    "    text_pos = 0.2\n",
    "    colors = sns.color_palette( as_cmap= True) \n",
    "    \n",
    "\n",
    "\n",
    "    for i, v in enumerate(pca.components_.T):\n",
    "        # display(colors[i])\n",
    "        ax.arrow(0, 0, v[0], v[1], head_width=0.1, head_length=0.1, linewidth=2, color=colors[i] , label = data.columns[i] )\n",
    "\n",
    "    plt.plot([x_min, x_max], [0, 0], color='k', linestyle='--', linewidth=1)\n",
    "    plt.plot([0, 0], [y_min, y_max], color='k', linestyle='--', linewidth=1)\n",
    "    ax.set_xlabel(\"PC1\", fontsize=14)\n",
    "    ax.set_ylabel(\"PC2\", fontsize=14)\n",
    "    ax.set_title(\"Loading plot\", fontsize = 14)\n",
    "    ax.legend() \n",
    "    \n",
    "    return ax"
   ]
  },
  {
   "cell_type": "code",
   "execution_count": 13,
   "metadata": {},
   "outputs": [
    {
     "data": {
      "image/png": "[encoded data removed]",
      "text/plain": [
       "<Figure size 648x648 with 1 Axes>"
      ]
     },
     "metadata": {
      "needs_background": "light"
     },
     "output_type": "display_data"
    }
   ],
   "source": [
    "loadingplot(data_reduced,pca_)\n",
    "plt.show()"
   ]
  },
  {
   "cell_type": "markdown",
   "metadata": {},
   "source": [
    "### Example:\n",
    "Some notes to interpret a loading plot:\n",
    "- PC1 on horizontal,pc2 on vertical.\n",
    "- For e.g loading on oranges on PC1, .22, Corresponds to a positive loading on PC1,\n",
    "- **Pay attention to direction of loading/magnitude of loading**\n",
    "- Loading for burger, etc is pointing to positive direction, oranges pointing to -ve direction, measures a constrast. \n",
    "Looking at the loading plot, the loadings for protein, fat on PC1, -0.2884, and -0.2594 respectively, correspond to a negative loading. "
   ]
  },
  {
   "cell_type": "markdown",
   "metadata": {},
   "source": [
    "# 1c)"
   ]
  },
  {
   "cell_type": "code",
   "execution_count": 14,
   "metadata": {},
   "outputs": [
    {
     "data": {
      "text/html": [
       "<div>\n",
       "<style scoped>\n",
       "    .dataframe tbody tr th:only-of-type {\n",
       "        vertical-align: middle;\n",
       "    }\n",
       "\n",
       "    .dataframe tbody tr th {\n",
       "        vertical-align: top;\n",
       "    }\n",
       "\n",
       "    .dataframe thead th {\n",
       "        text-align: right;\n",
       "    }\n",
       "</style>\n",
       "<table border=\"1\" class=\"dataframe\">\n",
       "  <thead>\n",
       "    <tr style=\"text-align: right;\">\n",
       "      <th></th>\n",
       "      <th>PC1</th>\n",
       "      <th>PC2</th>\n",
       "    </tr>\n",
       "  </thead>\n",
       "  <tbody>\n",
       "    <tr>\n",
       "      <th>0</th>\n",
       "      <td>-2.161909</td>\n",
       "      <td>0.853362</td>\n",
       "    </tr>\n",
       "    <tr>\n",
       "      <th>1</th>\n",
       "      <td>-0.166195</td>\n",
       "      <td>-1.352740</td>\n",
       "    </tr>\n",
       "    <tr>\n",
       "      <th>2</th>\n",
       "      <td>1.362076</td>\n",
       "      <td>-0.891322</td>\n",
       "    </tr>\n",
       "    <tr>\n",
       "      <th>3</th>\n",
       "      <td>-2.395938</td>\n",
       "      <td>1.500917</td>\n",
       "    </tr>\n",
       "    <tr>\n",
       "      <th>4</th>\n",
       "      <td>2.213658</td>\n",
       "      <td>0.846074</td>\n",
       "    </tr>\n",
       "  </tbody>\n",
       "</table>\n",
       "</div>"
      ],
      "text/plain": [
       "        PC1       PC2\n",
       "0 -2.161909  0.853362\n",
       "1 -0.166195 -1.352740\n",
       "2  1.362076 -0.891322\n",
       "3 -2.395938  1.500917\n",
       "4  2.213658  0.846074"
      ]
     },
     "execution_count": 14,
     "metadata": {},
     "output_type": "execute_result"
    }
   ],
   "source": [
    "#Obtain scores from original data that are not centred\n",
    "\n",
    "scores_notcentred = np.dot(data_reduced, pca2.components_.T)\n",
    "scores_notcentred = pd.DataFrame(scores_notcentred, columns = ['PC1', 'PC2'])\n",
    "scores_notcentred.head()"
   ]
  },
  {
   "cell_type": "code",
   "execution_count": 15,
   "metadata": {},
   "outputs": [],
   "source": [
    "# Plots score plot with data labels\n",
    "# Pass original data, un-centred scores and returns of PCA to this function. Optional width, height and margin.\n",
    "# This function returns the axes of the score plot\n",
    "\n",
    "def scoreplot_label(data, scores, pca, width=15, height=8, margin=0.5,text = None):\n",
    "    plt.figure(figsize=(width, height))\n",
    "    sns.set_style('darkgrid')\n",
    "    ax = sns.scatterplot(x=\"PC1\", y=\"PC2\", data = scores,hue=data.Type)\n",
    "    \n",
    "    #Set limits for figure\n",
    "    x_min = min(scores['PC1'].min(),0)-margin\n",
    "    x_max = max(scores['PC1'].max(),0)+margin\n",
    "    y_min = min(scores['PC2'].min(),0)-margin\n",
    "    y_max = max(scores['PC2'].max(),0)+margin\n",
    "        \n",
    "    text_pos = 30\n",
    "\n",
    "\n",
    "    # Print text\n",
    "    if text:\n",
    "        ax.text(0.14, -1.27,'Here', color='black', ha='center', va='center', fontsize=12)\n",
    "    # for i, v in enumerate(np.array(scores)):\n",
    "    #     ax.text(v[0], v[1]+text_pos, data.iloc[i,0], color='black', ha='center', va='center', fontsize=12)\n",
    "\n",
    "    ax.set_xlim(x_min, x_max)\n",
    "    ax.set_ylim(y_min, y_max)\n",
    "    ax.set_title(\"Score plot\", fontsize=14)\n",
    "    plt.plot([x_min, x_max], [0, 0], color='k', linestyle='--', linewidth=1)\n",
    "    plt.plot([0, 0], [y_min, y_max], color='k', linestyle='--', linewidth=1)\n",
    "    return ax"
   ]
  },
  {
   "cell_type": "markdown",
   "metadata": {},
   "source": []
  },
  {
   "cell_type": "code",
   "execution_count": 16,
   "metadata": {},
   "outputs": [
    {
     "data": {
      "image/png": "[encoded data removed]",
      "text/plain": [
       "<Figure size 1080x576 with 1 Axes>"
      ]
     },
     "metadata": {
      "needs_background": "light"
     },
     "output_type": "display_data"
    }
   ],
   "source": [
    "scoreplot_label(data,scores_notcentred, pca2)\n",
    "plt.show()"
   ]
  },
  {
   "cell_type": "markdown",
   "metadata": {},
   "source": [
    "# 1d)"
   ]
  },
  {
   "cell_type": "markdown",
   "metadata": {},
   "source": [
    "Scrutinize standard deviation and mean"
   ]
  },
  {
   "cell_type": "markdown",
   "metadata": {},
   "source": [
    "$$z = \\frac {(x-mean)}{std}$$"
   ]
  },
  {
   "cell_type": "code",
   "execution_count": 17,
   "metadata": {},
   "outputs": [
    {
     "data": {
      "text/html": [
       "<div>\n",
       "<style scoped>\n",
       "    .dataframe tbody tr th:only-of-type {\n",
       "        vertical-align: middle;\n",
       "    }\n",
       "\n",
       "    .dataframe tbody tr th {\n",
       "        vertical-align: top;\n",
       "    }\n",
       "\n",
       "    .dataframe thead th {\n",
       "        text-align: right;\n",
       "    }\n",
       "</style>\n",
       "<table border=\"1\" class=\"dataframe\">\n",
       "  <thead>\n",
       "    <tr style=\"text-align: right;\">\n",
       "      <th></th>\n",
       "      <th>Protein_g</th>\n",
       "      <th>Fat_g</th>\n",
       "      <th>Carb_g</th>\n",
       "      <th>Sugar_g</th>\n",
       "      <th>Fiber_g</th>\n",
       "      <th>VitA_mcg</th>\n",
       "    </tr>\n",
       "  </thead>\n",
       "  <tbody>\n",
       "    <tr>\n",
       "      <th>count</th>\n",
       "      <td>234.000000</td>\n",
       "      <td>234.000000</td>\n",
       "      <td>234.000000</td>\n",
       "      <td>234.000000</td>\n",
       "      <td>234.000000</td>\n",
       "      <td>234.000000</td>\n",
       "    </tr>\n",
       "    <tr>\n",
       "      <th>mean</th>\n",
       "      <td>8.908462</td>\n",
       "      <td>4.803803</td>\n",
       "      <td>28.265556</td>\n",
       "      <td>11.064573</td>\n",
       "      <td>3.702991</td>\n",
       "      <td>187.047009</td>\n",
       "    </tr>\n",
       "    <tr>\n",
       "      <th>std</th>\n",
       "      <td>9.830258</td>\n",
       "      <td>6.560120</td>\n",
       "      <td>32.084279</td>\n",
       "      <td>12.569516</td>\n",
       "      <td>4.405083</td>\n",
       "      <td>261.453321</td>\n",
       "    </tr>\n",
       "    <tr>\n",
       "      <th>min</th>\n",
       "      <td>0.000000</td>\n",
       "      <td>0.000000</td>\n",
       "      <td>0.000000</td>\n",
       "      <td>0.000000</td>\n",
       "      <td>0.000000</td>\n",
       "      <td>0.000000</td>\n",
       "    </tr>\n",
       "    <tr>\n",
       "      <th>25%</th>\n",
       "      <td>1.100000</td>\n",
       "      <td>0.200000</td>\n",
       "      <td>6.640000</td>\n",
       "      <td>1.185000</td>\n",
       "      <td>1.200000</td>\n",
       "      <td>2.000000</td>\n",
       "    </tr>\n",
       "    <tr>\n",
       "      <th>50%</th>\n",
       "      <td>4.850000</td>\n",
       "      <td>2.100000</td>\n",
       "      <td>14.400000</td>\n",
       "      <td>3.830000</td>\n",
       "      <td>2.600000</td>\n",
       "      <td>32.500000</td>\n",
       "    </tr>\n",
       "    <tr>\n",
       "      <th>75%</th>\n",
       "      <td>12.132500</td>\n",
       "      <td>7.300000</td>\n",
       "      <td>74.465000</td>\n",
       "      <td>19.667500</td>\n",
       "      <td>5.175000</td>\n",
       "      <td>383.750000</td>\n",
       "    </tr>\n",
       "    <tr>\n",
       "      <th>max</th>\n",
       "      <td>30.420000</td>\n",
       "      <td>40.680000</td>\n",
       "      <td>89.300000</td>\n",
       "      <td>57.190000</td>\n",
       "      <td>42.500000</td>\n",
       "      <td>943.000000</td>\n",
       "    </tr>\n",
       "  </tbody>\n",
       "</table>\n",
       "</div>"
      ],
      "text/plain": [
       "        Protein_g       Fat_g      Carb_g     Sugar_g     Fiber_g    VitA_mcg\n",
       "count  234.000000  234.000000  234.000000  234.000000  234.000000  234.000000\n",
       "mean     8.908462    4.803803   28.265556   11.064573    3.702991  187.047009\n",
       "std      9.830258    6.560120   32.084279   12.569516    4.405083  261.453321\n",
       "min      0.000000    0.000000    0.000000    0.000000    0.000000    0.000000\n",
       "25%      1.100000    0.200000    6.640000    1.185000    1.200000    2.000000\n",
       "50%      4.850000    2.100000   14.400000    3.830000    2.600000   32.500000\n",
       "75%     12.132500    7.300000   74.465000   19.667500    5.175000  383.750000\n",
       "max     30.420000   40.680000   89.300000   57.190000   42.500000  943.000000"
      ]
     },
     "execution_count": 17,
     "metadata": {},
     "output_type": "execute_result"
    }
   ],
   "source": [
    "data.describe()"
   ]
  },
  {
   "cell_type": "markdown",
   "metadata": {},
   "source": [
    "Protein: 0.3 g Sugar: 16.7 g\n",
    "Fat: 0.1 g Fiber: 2.9 g\n",
    "Carbohydrate: 19.6 g Vitamin A: 2 mcg"
   ]
  },
  {
   "cell_type": "code",
   "execution_count": 18,
   "metadata": {},
   "outputs": [
    {
     "data": {
      "image/png": "[encoded data removed]",
      "text/plain": [
       "<Figure size 1080x576 with 1 Axes>"
      ]
     },
     "metadata": {},
     "output_type": "display_data"
    }
   ],
   "source": [
    "scoreplot_label(data,scores_notcentred, pca2,text=True)\n",
    "plt.show()"
   ]
  }
 ],
 "metadata": {
  "interpreter": {
   "hash": "8115c509434e7e4682577b1bb641dd6e40a9781d5ef10df97e95fee9ac99dd9b"
  },
  "kernelspec": {
   "display_name": "Python 3.8.8 ('base')",
   "language": "python",
   "name": "python3"
  },
  "language_info": {
   "codemirror_mode": {
    "name": "ipython",
    "version": 3
   },
   "file_extension": ".py",
   "mimetype": "text/x-python",
   "name": "python",
   "nbconvert_exporter": "python",
   "pygments_lexer": "ipython3",
   "version": "3.8.8"
  },
  "orig_nbformat": 4
 },
 "nbformat": 4,
 "nbformat_minor": 2
}
